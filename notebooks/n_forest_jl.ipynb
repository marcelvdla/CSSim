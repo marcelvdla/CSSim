{
 "cells": [
  {
   "cell_type": "code",
   "execution_count": 2,
   "metadata": {},
   "outputs": [
    {
     "data": {
      "text/plain": [
       "antonovsky_sym_jacob"
      ]
     },
     "metadata": {},
     "output_type": "display_data"
    }
   ],
   "source": [
    "using Distributions\n",
    "using Random\n",
    "using PyPlot\n",
    "using DrWatson\n",
    "include(joinpath(srcdir(), \"n_forest.jl\"))"
   ]
  },
  {
   "cell_type": "code",
   "execution_count": 10,
   "metadata": {},
   "outputs": [
    {
     "data": {
      "text/plain": [
       "Dict{Symbol, Any} with 12 entries:\n",
       "  :d  => [42]\n",
       "  :n  => 2\n",
       "  :β₂ => 1\n",
       "  :β₁ => 0\n",
       "  :h  => 2\n",
       "  :a₂ => 0\n",
       "  :P₀ => 1\n",
       "  :f  => 1\n",
       "  :ρ  => 4.2\n",
       "  :l  => 600\n",
       "  :a₁ => 1\n",
       "  :α₀ => -1"
      ]
     },
     "metadata": {},
     "output_type": "display_data"
    }
   ],
   "source": [
    "# Parameters for figure 7 first plot\n",
    "# NOTE: Could iterate over [42, 150, 700] for d list\n",
    "params = Dict{Symbol,Any}(\n",
    "        :ρ  => 4.2, \n",
    "        :f  => 1,\n",
    "        :α₀ => -1, \n",
    "        :a₁ => 1, \n",
    "        :h  => 2, \n",
    "        :a₂ => 0, \n",
    "        :d  => [42], \n",
    "        :l  => 600, \n",
    "        :P₀ => 1, \n",
    "        :β₁ => 0, \n",
    "        :β₂ => 1, \n",
    "        :n  => 2)"
   ]
  },
  {
   "cell_type": "code",
   "execution_count": 20,
   "metadata": {},
   "outputs": [
    {
     "data": {
      "text/plain": [
       "50×2×2 Array{Float64, 3}:\n",
       "[:, :, 1] =\n",
       " 2.66592    2.22915\n",
       " 2.27015    0.489166\n",
       " 0.0884341  3.25927\n",
       " 0.864665   1.14478\n",
       " 4.79463    4.47943\n",
       " 4.86783    1.71643\n",
       " 1.51935    2.78997\n",
       " 0.884543   2.68181\n",
       " 4.78458    4.40095\n",
       " 2.92142    2.9313\n",
       " ⋮          \n",
       " 4.1657     4.29023\n",
       " 4.04772    3.82557\n",
       " 1.05139    1.94197\n",
       " 2.80723    4.33158\n",
       " 0.228651   0.63171\n",
       " 4.54489    4.74299\n",
       " 3.03665    2.15483\n",
       " 4.9828     0.96873\n",
       " 2.30616    3.82116\n",
       "\n",
       "[:, :, 2] =\n",
       " 0.767387  3.6775\n",
       " 0.135772  2.11433\n",
       " 1.27634   3.59581\n",
       " 2.77567   0.974948\n",
       " 3.23715   1.44786\n",
       " 4.1665    0.130602\n",
       " 0.392806  4.16638\n",
       " 1.21067   2.9174\n",
       " 1.03813   2.05734\n",
       " 0.253883  3.61713\n",
       " ⋮         \n",
       " 0.154761  2.69667\n",
       " 1.64158   4.74435\n",
       " 3.27055   4.10124\n",
       " 2.31804   4.19425\n",
       " 3.75472   1.69184\n",
       " 4.02126   3.3399\n",
       " 1.19291   1.12109\n",
       " 4.25453   2.77849\n",
       " 2.40715   4.95356"
      ]
     },
     "metadata": {},
     "output_type": "display_data"
    }
   ],
   "source": [
    "# generate random uniform data\n",
    "n_points = 50\n",
    "u0s = 5*rand(MersenneTwister(42), n_points, params[:n], 2)"
   ]
  },
  {
   "cell_type": "code",
   "execution_count": null,
   "metadata": {},
   "outputs": [],
   "source": []
  },
  {
   "cell_type": "code",
   "execution_count": null,
   "metadata": {},
   "outputs": [],
   "source": []
  }
 ],
 "metadata": {
  "kernelspec": {
   "display_name": "Julia 1.9.0",
   "language": "julia",
   "name": "julia-1.9"
  },
  "language_info": {
   "file_extension": ".jl",
   "mimetype": "application/julia",
   "name": "julia",
   "version": "1.9.0"
  },
  "orig_nbformat": 4
 },
 "nbformat": 4,
 "nbformat_minor": 2
}
