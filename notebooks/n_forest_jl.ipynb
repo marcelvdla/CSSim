{
 "cells": [
  {
   "cell_type": "code",
   "execution_count": 1,
   "metadata": {},
   "outputs": [
    {
     "data": {
      "text/plain": [
       "antonovsky_sym_jacob"
      ]
     },
     "metadata": {},
     "output_type": "display_data"
    }
   ],
   "source": [
    "using Distributions\n",
    "using Random\n",
    "using PyPlot\n",
    "using DrWatson\n",
    "include(joinpath(srcdir(), \"n_forest.jl\"))"
   ]
  },
  {
   "cell_type": "code",
   "execution_count": 2,
   "metadata": {},
   "outputs": [
    {
     "data": {
      "text/plain": [
       "Dict{Symbol, Any} with 13 entries:\n",
       "  :d  => [42.0]\n",
       "  :n  => 2\n",
       "  :β₂ => 1.0\n",
       "  :β₁ => 0.0\n",
       "  :h  => 2.0\n",
       "  :a₂ => 0.0\n",
       "  :w₀ => 1.0\n",
       "  :P₀ => 1.0\n",
       "  :f  => 1.0\n",
       "  :ρ  => 4.2\n",
       "  :l  => 600.0\n",
       "  :a₁ => 1.0\n",
       "  :α₀ => -1.0"
      ]
     },
     "metadata": {},
     "output_type": "display_data"
    }
   ],
   "source": [
    "# Parameters for figure 7 first plot\n",
    "# NOTE: Could iterate over [42, 150, 700] for d list\n",
    "params = Dict{Symbol,Any}(\n",
    "        :ρ  => 4.2, \n",
    "        :f  => 1.0,\n",
    "        :α₀ => -1.0, \n",
    "        :w₀ =>  1.0,\n",
    "        :a₁ => 1.0, \n",
    "        :h  => 2.0, \n",
    "        :a₂ => 0.0, \n",
    "        :d  => [42.0],  # might hurt performance...\n",
    "        :l  => 600.0, \n",
    "        :P₀ => 1.0, \n",
    "        :β₁ => 0.0, \n",
    "        :β₂ => 1.0,\n",
    "        :n  => 2)"
   ]
  },
  {
   "cell_type": "code",
   "execution_count": 3,
   "metadata": {},
   "outputs": [
    {
     "data": {
      "text/plain": [
       "50×2×2 Array{Float64, 3}:\n",
       "[:, :, 1] =\n",
       " 2.66592    2.22915\n",
       " 2.27015    0.489166\n",
       " 0.0884341  3.25927\n",
       " 0.864665   1.14478\n",
       " 4.79463    4.47943\n",
       " 4.86783    1.71643\n",
       " 1.51935    2.78997\n",
       " 0.884543   2.68181\n",
       " 4.78458    4.40095\n",
       " 2.92142    2.9313\n",
       " ⋮          \n",
       " 4.1657     4.29023\n",
       " 4.04772    3.82557\n",
       " 1.05139    1.94197\n",
       " 2.80723    4.33158\n",
       " 0.228651   0.63171\n",
       " 4.54489    4.74299\n",
       " 3.03665    2.15483\n",
       " 4.9828     0.96873\n",
       " 2.30616    3.82116\n",
       "\n",
       "[:, :, 2] =\n",
       " 0.767387  3.6775\n",
       " 0.135772  2.11433\n",
       " 1.27634   3.59581\n",
       " 2.77567   0.974948\n",
       " 3.23715   1.44786\n",
       " 4.1665    0.130602\n",
       " 0.392806  4.16638\n",
       " 1.21067   2.9174\n",
       " 1.03813   2.05734\n",
       " 0.253883  3.61713\n",
       " ⋮         \n",
       " 0.154761  2.69667\n",
       " 1.64158   4.74435\n",
       " 3.27055   4.10124\n",
       " 2.31804   4.19425\n",
       " 3.75472   1.69184\n",
       " 4.02126   3.3399\n",
       " 1.19291   1.12109\n",
       " 4.25453   2.77849\n",
       " 2.40715   4.95356"
      ]
     },
     "metadata": {},
     "output_type": "display_data"
    }
   ],
   "source": [
    "# generate random uniform data\n",
    "n_points = 50\n",
    "u0s = 5*rand(MersenneTwister(42), n_points, params[:n], 2)"
   ]
  },
  {
   "cell_type": "code",
   "execution_count": 4,
   "metadata": {},
   "outputs": [
    {
     "data": {
      "text/plain": [
       "(Figure(PyObject <Figure size 640x480 with 4 Axes>), PyCall.PyObject[PyObject <Axes: > PyObject <Axes: >; PyObject <Axes: > PyObject <Axes: >])"
      ]
     },
     "metadata": {},
     "output_type": "display_data"
    }
   ],
   "source": [
    "# Instantiate figure 7 plot\n",
    "fig, axs = plt.subplots(nrows=2, ncols=2)"
   ]
  },
  {
   "cell_type": "code",
   "execution_count": 7,
   "metadata": {},
   "outputs": [
    {
     "name": "stderr",
     "output_type": "stream",
     "text": [
      "┌ Warning: Using arrays or dicts to store parameters of different types can hurt performance.\n",
      "│ Consider using tuples instead.\n",
      "└ @ SciMLBase /home/hades/.julia/packages/SciMLBase/s9wrq/src/performance_warnings.jl:32\n"
     ]
    },
    {
     "data": {
      "text/plain": [
       "4-dimensional CoupledODEs\n",
       " deterministic: true\n",
       " discrete time: false\n",
       " in-place:      true\n",
       " dynamic rule:  n_forest_rule!\n",
       " ODE solver:    Tsit5\n",
       " ODE kwargs:    (abstol = 1.0e-6, reltol = 1.0e-6)\n",
       " parameters:    Dict{Symbol, Any}(:d => [42.0], :n => 2, :β₂ => 1.0, :β₁ => 0.0, :h => 2.0, :a₂ => 0.0, :w₀ => 1.0, :P₀ => 1.0, :f => 1.0, :ρ => 4.2…)\n",
       " time:          0.0\n",
       " state:         [2.665915080219307 0.7673866091912163; 2.2291522990060764 3.6775031517766577]\n"
      ]
     },
     "metadata": {},
     "output_type": "display_data"
    }
   ],
   "source": [
    "# Plot 1,1 and 1,2 phase space\n",
    "u0 = u0s[1, :, :] # n ecosystems, (x, y)\n",
    "n_forest_ds = n_forest_system(u0, params)"
   ]
  },
  {
   "cell_type": "code",
   "execution_count": 9,
   "metadata": {},
   "outputs": [
    {
     "data": {
      "text/plain": [
       "(4-dimensional StateSpaceSet{Float64} with 501 points, 0.0:0.1:50.0)"
      ]
     },
     "metadata": {},
     "output_type": "display_data"
    }
   ],
   "source": [
    "T = 50\n",
    "X, t = trajectory(n_forest_ds, T)"
   ]
  },
  {
   "cell_type": "code",
   "execution_count": 28,
   "metadata": {},
   "outputs": [
    {
     "data": {
      "text/plain": [
       "501×2×2 Array{Float64, 3}:\n",
       "[:, :, 1] =\n",
       " 2.66592  2.22915\n",
       " 2.48647  2.11754\n",
       " 2.37425  2.23938\n",
       " 2.30438  2.4355\n",
       " 2.26178  2.65213\n",
       " 2.23696  2.86657\n",
       " 2.22383  3.06829\n",
       " 2.21844  3.2526\n",
       " 2.21817  3.41782\n",
       " 2.22129  3.56371\n",
       " ⋮        \n",
       " 2.63246  4.24467\n",
       " 2.63246  4.24467\n",
       " 2.63246  4.24467\n",
       " 2.63245  4.24467\n",
       " 2.63245  4.24467\n",
       " 2.63245  4.24467\n",
       " 2.63245  4.24467\n",
       " 2.63246  4.24467\n",
       " 2.63246  4.24467\n",
       "\n",
       "[:, :, 2] =\n",
       " 0.767387  3.6775\n",
       " 0.860869  3.20475\n",
       " 0.92453   2.82055\n",
       " 0.968607  2.52113\n",
       " 0.999726  2.29496\n",
       " 1.02223   2.12944\n",
       " 1.03899   2.01281\n",
       " 1.05191   1.93482\n",
       " 1.06226   1.88678\n",
       " 1.07087   1.86151\n",
       " ⋮         \n",
       " 1.31623   2.12233\n",
       " 1.31623   2.12234\n",
       " 1.31623   2.12234\n",
       " 1.31623   2.12234\n",
       " 1.31623   2.12234\n",
       " 1.31623   2.12234\n",
       " 1.31623   2.12234\n",
       " 1.31623   2.12234\n",
       " 1.31623   2.12233"
      ]
     },
     "metadata": {},
     "output_type": "display_data"
    }
   ],
   "source": [
    "reshape(Matrix(X), :, 2, 2)"
   ]
  },
  {
   "cell_type": "code",
   "execution_count": null,
   "metadata": {},
   "outputs": [],
   "source": []
  }
 ],
 "metadata": {
  "kernelspec": {
   "display_name": "Julia 1.9.0",
   "language": "julia",
   "name": "julia-1.9"
  },
  "language_info": {
   "file_extension": ".jl",
   "mimetype": "application/julia",
   "name": "julia",
   "version": "1.9.0"
  },
  "orig_nbformat": 4
 },
 "nbformat": 4,
 "nbformat_minor": 2
}
