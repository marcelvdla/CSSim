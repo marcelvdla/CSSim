{
 "cells": [
  {
   "cell_type": "code",
   "execution_count": 4,
   "id": "32846bf6",
   "metadata": {},
   "outputs": [],
   "source": [
    "import numpy as np\n",
    "import matplotlib.pyplot as plt\n",
    "from scipy.integrate import solve_ivp\n",
    "from src.perturbation import get_ecosystems_to_perturb_at_times_tstar, epsilon_k, theta\n",
    "from src.n_forest import alpha"
   ]
  },
  {
   "cell_type": "code",
   "execution_count": 5,
   "id": "22bfc490",
   "metadata": {},
   "outputs": [],
   "source": [
    "def deriv_forest(x, y, penalty_rate, args):\n",
    "    \"\"\"\n",
    "    Calculate derivatives of x and y over time as per the Antonovsky & Korzukhin rule.\n",
    "    \n",
    "    INPUT:\n",
    "    x            = value for x; density of young trees in ecosystem, typically between 0 and 4\n",
    "    y            = value for y; density of old trees in ecosystem, typically between 0 and 4\n",
    "    penalty_rate = penalty rate calculated by penalty function\n",
    "    args         = tuple of 9 arguments\n",
    "\n",
    "    Returns derivatives of x and y.\n",
    "    \"\"\"\n",
    "    # Unpack arguments rho, gamma (not used), f, h, a1 and a2\n",
    "    fertility, aging_rate, biotic_pump_young, mortality_old, biotic_pump_old, dist, beta_2, P_0 = args\n",
    "    \n",
    "    # Calculate derivatives\n",
    "    dx = fertility * y - ((y - 1)**2 + 1) * x - aging_rate * x + biotic_pump_young * penalty_rate * x\n",
    "    dy = aging_rate * x - mortality_old * y + biotic_pump_old * penalty_rate * y\n",
    "    \n",
    "    return dx, dy"
   ]
  },
  {
   "cell_type": "code",
   "execution_count": 6,
   "id": "5356f023",
   "metadata": {},
   "outputs": [],
   "source": [
    "def deriv_forest_perturbed(x, y, penalty_rate, epsilon, theta, args):\n",
    "    \"\"\"\n",
    "    Calculate derivatives of x and y over time as per the Antonovsky & Korzukhin rule.\n",
    "    \n",
    "    INPUT:\n",
    "    x            = value for x; density of young trees in ecosystem, typically between 0 and 4\n",
    "    y            = value for y; density of old trees in ecosystem, typically between 0 and 4\n",
    "    penalty_rate = penalty rate calculated by penalty function\n",
    "    args         = tuple of 9 arguments\n",
    "\n",
    "    Returns derivatives of x and y.\n",
    "    \"\"\"\n",
    "    # Unpack arguments rho, gamma (not used), f, h, a1 and a2\n",
    "    fertility, aging_rate, biotic_pump_young, mortality_old, biotic_pump_old, dist, beta_2, P_0 = args\n",
    "    \n",
    "    # Calculate derivatives\n",
    "    dx = fertility * y - ((y - 1)**2 + 1) * x - aging_rate * x + biotic_pump_young * penalty_rate * x - epsilon * theta * x\n",
    "    dy = aging_rate * x - mortality_old * y + biotic_pump_old * penalty_rate * y - epsilon * theta * y\n",
    "    \n",
    "    return dx, dy"
   ]
  },
  {
   "cell_type": "code",
   "execution_count": 7,
   "id": "5634a73a",
   "metadata": {},
   "outputs": [],
   "source": [
    "def system_n_forests(x0s, y0s, args, perturbed = False, timesteps = 100, dt = 0.01, ecosystems_to_deforest = 2):\n",
    "    \"\"\"Solve the system of ODEs of the Antonovosky rule using forward Euler.\n",
    "\n",
    "    Args:\n",
    "        x0s: array of values for x, the density of young trees in the ecosystem; \n",
    "            typically between 0 and 4.\n",
    "        y0s: array of values for y, the density of old trees in the ecosystem; \n",
    "            typically between 0 and 4.\n",
    "        args: tuple of arguments needed for the derivation function\n",
    "        timesteps: int, timesteps to iterate over; default 100\n",
    "        dt: Delta time, default 0.01\n",
    "        ecosystems_to_deforest: int, how many ecosystems should be deforested initially\n",
    "    \n",
    "    Returns:\n",
    "        Two arrays of x and y values per time\n",
    "    \"\"\"\n",
    "       \n",
    "    assert (isinstance(args, (tuple, list, np.ndarray))),( \n",
    "            \"Your args variable should be a list-like.\")\n",
    "    assert (len(args)== 8), (\"Make sure you have all arguments needed included:\"\n",
    "                             \" fertility, aging_rate,\"\n",
    "                             \"biotic_pump_young,\"\n",
    "                             \"mortality_old, biotic_pump_old, dist, beta_2, P_0.\")\n",
    "    assert len(x0s) == len(y0s), (\"The input vector for the young and old trees\" \n",
    "                                   \"should be the same length.\")\n",
    "    \n",
    "    n = len(x0s)\n",
    "    x_vals = np.empty((n, 1))\n",
    "    y_vals = np.empty((n, 1))\n",
    "    \n",
    "    \n",
    "    \n",
    "    if perturbed:\n",
    "        \n",
    "        # Choose networks to deforest; gets a list of instances the deforested ecosystems\n",
    "        # Limit the timesteps at which forest can be deforested until timestep 40\n",
    "        deforest_ecosystem_at_t : List[EcosystemDeforestTime] = \\\n",
    "            get_ecosystems_to_perturb_at_times_tstar(\n",
    "                t_timesteps=int(40/dt),\n",
    "                n_deforested_ecosystems=ecosystems_to_deforest,\n",
    "                n_total_ecosystems=n, seed = None)\n",
    "\n",
    "        # Get a list with the ids of the ecosystems that will be deforested\n",
    "        deforest_ecosystem_ids = [ecosystem.ecosystem_id for ecosystem in deforest_ecosystem_at_t]\n",
    "\n",
    "    for t in range(int(timesteps / dt)):\n",
    "        \n",
    "        penalties = alpha(x0s, y0s, dist=args[5]/(n-1), beta_2 = args[6],\n",
    "                          P_0 = args[7])\n",
    "        for i in range(n):\n",
    "            \n",
    "#             x_vals[i, t] = x0s[i]\n",
    "#             y_vals[i, t] = y0s[i]\n",
    "            \n",
    "            if perturbed:\n",
    "                \n",
    "                # Checks if this ecosystem i will be deforested\n",
    "                epsilon_i = epsilon_k(k=i, ecosytem_ids=deforest_ecosystem_ids)\n",
    "                \n",
    "                \n",
    "                if epsilon_i:\n",
    "                    # Get index of this ecosystem i in the list of deforested ecosystems to get the t_star \n",
    "                    t_star_ix = deforest_ecosystem_ids.index(i)\n",
    "                    used_t_star = deforest_ecosystem_at_t[t_star_ix].t_star\n",
    "                    \n",
    "                    # Calculate theta using this t_star\n",
    "                    theta_i = theta(t=t, t_star=used_t_star)\n",
    "                    \n",
    "                else:\n",
    "                    theta_i = 0\n",
    "    \n",
    "                # Use epsilon and theta in the other derivative function when perturbing the system\n",
    "                dx, dy = deriv_forest_perturbed(x0s[i], y0s[i], penalties[i], epsilon_i, theta_i, args)\n",
    "                \n",
    "            else:\n",
    "                dx, dy = deriv_forest(x0s[i], y0s[i], penalties[i], args)\n",
    "            \n",
    "            x0s[i] += dx * dt\n",
    "            y0s[i] += dy * dt\n",
    "        \n",
    "        x_vals[i] = x0s[-1]\n",
    "        y_vals[i] = y0s[-1]\n",
    "            \n",
    "    if perturbed:   \n",
    "        return x_vals, y_vals, deforest_ecosystem_ids\n",
    "    \n",
    "    else:\n",
    "        return x_vals, y_vals\n"
   ]
  },
  {
   "cell_type": "code",
   "execution_count": 8,
   "id": "fa38aa53",
   "metadata": {},
   "outputs": [],
   "source": [
    "fertility = 4.2 #rho\n",
    "aging_rate = 1 #f\n",
    "biotic_pump_young = 1 #a1\n",
    "mortality_old = 2 #h\n",
    "biotic_pump_old = 0 #a2\n",
    "dist = 900\n",
    "beta_2 = 0.15\n",
    "P_0 = 1.05\n",
    "\n",
    "arguments = (fertility, aging_rate, biotic_pump_young, mortality_old, biotic_pump_old, dist, beta_2, P_0)\n",
    "\n",
    "time = 100\n",
    "dt = 0.01\n",
    "n = 5\n",
    "\n",
    "\n",
    "xs, ys, deforested = system_n_forests(np.random.uniform(0,4,n),np.ones(n)*2, arguments, perturbed = True, timesteps = time, dt = dt)\n",
    "\n",
    "# for i, x in enumerate(xs):\n",
    "#     plt.plot(np.arange(0, time, dt), x, label = f\"Young trees in ecosystem {i+1}\")\n",
    "#     plt.plot(np.arange(0, time, dt), ys[i], label = f\"Old trees in ecosystem {i+1}\")\n",
    "# plt.legend(bbox_to_anchor=(1.04, 1), loc=\"upper left\")\n",
    "# plt.show()"
   ]
  },
  {
   "cell_type": "code",
   "execution_count": 9,
   "id": "8acaecb3",
   "metadata": {},
   "outputs": [
    {
     "name": "stdout",
     "output_type": "stream",
     "text": [
      "[[1.00000000e+00]\n",
      " [1.00000000e+00]\n",
      " [1.00000000e+00]\n",
      " [1.00000000e+00]\n",
      " [1.88992846e-26]]\n"
     ]
    }
   ],
   "source": [
    "print(xs)"
   ]
  },
  {
   "cell_type": "code",
   "execution_count": 16,
   "id": "33a0670d",
   "metadata": {},
   "outputs": [
    {
     "name": "stdout",
     "output_type": "stream",
     "text": [
      "[4, 1, 4, 1, 4, 1, 5, 8, 5, 8, 6, 8, 6, 8, 8, 5, 8, 5, 1, 3, 1, 3, 1, 3, 7, 5, 7, 5, 1, 9, 1, 9, 1, 9, 7, 2, 9, 6, 9, 6, 9, 6, 8, 1, 8, 1, 6, 4, 6, 4, 6, 4, 5, 9, 5, 9, 5, 9, 5, 9, 6, 3, 1, 0, 1, 0, 3, 2, 3, 2, 3, 2, 2, 3, 2, 3, 2, 3, 2, 3, 2, 3, 2, 3, 2, 3, 2, 3, 7, 8, 7, 8, 7, 8, 0, 5, 0, 5, 0, 5, 0, 5, 0, 5, 2, 5, 2, 5, 5, 6, 5, 6, 1, 3, 1, 3, 9, 4, 9, 4, 9, 4, 9, 4, 9, 4, 9, 4, 9, 4, 9, 4, 4, 8, 4, 8, 4, 8, 4, 8, 7, 5, 7, 5, 7, 5, 2, 0, 2, 0, 2, 0, 9, 5, 9, 5, 9, 5, 9, 5, 9, 5, 9, 6, 9, 6, 2, 1, 2, 1, 2, 1, 4, 2, 4, 2, 0, 7, 0, 7, 7, 5, 7, 5, 7, 5, 9, 0, 9, 0, 9, 0, 5, 9, 5, 9, 2, 5, 6, 2, 6, 2, 1, 3, 1, 3, 1, 3, 3, 9, 3, 9, 3, 9, 8, 9, 8, 9, 1, 0, 1, 0, 5, 0, 5, 0, 5, 0, 5, 0, 5, 0, 5, 0, 5, 0, 5, 0, 5, 0, 5, 0, 1, 0, 1, 0, 1, 0, 1, 0, 1, 0, 1, 0, 1, 0, 1, 0, 6, 5, 6, 5, 2, 6, 2, 6, 7, 3, 7, 3, 6, 5, 6, 5, 5, 1, 5, 1, 5, 6, 5, 6, 9, 3, 9, 3, 9, 3, 7, 4, 7, 4, 7, 4, 7, 4, 7, 4, 3, 7, 3, 7, 3, 2, 3, 2, 3, 2, 5, 1, 5, 1, 5, 1, 5, 1, 5, 1, 5, 1, 5, 1, 5, 1, 5, 1, 3, 1, 3, 1, 4, 0, 4, 0, 1, 8, 1, 8, 7, 2, 7, 2, 7, 2, 5, 7, 5, 7, 4, 0, 4, 0, 4, 0, 9, 2, 9, 2, 9, 2, 2, 8, 6, 0, 6, 0, 6, 0, 0, 4, 0, 4, 2, 5, 2, 5, 2, 5, 7, 3, 7, 3, 7, 3, 7, 3, 7, 3, 7, 3, 8, 2, 8, 2, 8, 2, 9, 5, 9, 5, 9, 5, 9, 5, 0, 6, 0, 6, 1, 8, 1, 8, 1, 8, 9, 7, 9, 7, 9, 7, 9, 7, 1, 0, 1, 0, 1, 3, 1, 3, 7, 5, 7, 5, 1, 4, 1, 4, 1, 4, 8, 9, 8, 9, 8, 9, 8, 9, 8, 9, 8, 9, 0, 1, 0, 1, 0, 1, 5, 2, 5, 2, 5, 2, 1, 2, 1, 2, 1, 2, 1, 2, 1, 2, 7, 2, 7, 2, 5, 2, 5, 2, 5, 2, 8, 9, 8, 9, 8, 9, 8, 9, 8, 9, 8, 9, 8, 9, 8, 9, 8, 9, 8, 9, 7, 5, 7, 5, 7, 5, 0, 5, 0, 5, 0, 5, 2, 6, 2, 6, 2, 6, 2, 6, 2, 6, 2, 6, 2, 6, 2, 6, 2, 6, 1, 8, 1, 8, 8, 4, 8, 4, 8, 1, 8, 1, 0, 8, 0, 8, 4, 1, 4, 1, 4, 1, 0, 7, 0, 7, 0, 9, 0, 9, 0, 9, 0, 9, 5, 3, 5, 3, 5, 3, 2, 7, 2, 7, 2, 7, 2, 7, 2, 7, 2, 7, 2, 7, 2, 7, 2, 7, 8, 3, 8, 3, 8, 3, 6, 3, 6, 3, 6, 3, 2, 4, 2, 4, 2, 4, 8, 2, 8, 2, 2, 9, 2, 9, 2, 9, 3, 0, 3, 0, 3, 0, 3, 0, 3, 0, 3, 0, 3, 0, 7, 2, 7, 2, 4, 7, 4, 7, 4, 7, 3, 1, 3, 1, 3, 1, 1, 3, 1, 3, 3, 7, 3, 7, 6, 0, 6, 0, 9, 0, 9, 0, 9, 0, 8, 0, 8, 4, 8, 4, 8, 4, 3, 1, 3, 1, 3, 1, 5, 9, 5, 9, 5, 9, 5, 9, 2, 5, 2, 5, 2, 8, 2, 8, 2, 8, 2, 8, 2, 8, 2, 8, 5, 8, 5, 8, 7, 0, 7, 0, 0, 1, 0, 1, 0, 1, 6, 1, 6, 1, 6, 1, 6, 1, 0, 3, 0, 3, 0, 3, 0, 3, 0, 3, 0, 3, 0, 3, 9, 7, 9, 7, 9, 7, 9, 7, 9, 7, 9, 7, 9, 7, 9, 7, 9, 7, 0, 6, 1, 0, 1, 0, 1, 0, 8, 6, 8, 6, 9, 7, 9, 7, 9, 7, 0, 8, 0, 8, 9, 7, 9, 7, 9, 7, 9, 7, 8, 0, 7, 0, 7, 0, 2, 9, 2, 9, 2, 9, 5, 1, 5, 1, 7, 4, 7, 4, 7, 4, 7, 4, 7, 4, 3, 2, 3, 2, 9, 1, 9, 1, 9, 1, 7, 0, 7, 0, 0, 1, 0, 1, 0, 1, 6, 9, 6, 9, 6, 9, 6, 9, 1, 9, 1, 9, 5, 7, 5, 7, 7, 5, 7, 5, 7, 3, 7, 3, 6, 0, 6, 0, 1, 3, 1, 3, 1, 4, 1, 4, 8, 5, 8, 5, 7, 2, 7, 2, 7, 2, 0, 3, 0, 3, 0, 3, 0, 3, 5, 3, 5, 3, 5, 3, 5, 3, 5, 3, 5, 3, 5, 3, 5, 3, 1, 2, 1, 2, 1, 2, 1, 2, 9, 7, 9, 7, 9, 7, 9, 7, 9, 7, 9, 7, 9, 7, 9, 7, 9, 7, 9, 7, 1, 9, 1, 9, 5, 8, 5, 8, 5, 8, 3, 9, 3, 9, 3, 9, 8, 3, 8, 3, 8, 3, 8, 3, 3, 7, 3, 7, 3, 7, 8, 2, 8, 2, 3, 2, 3, 2, 6, 3, 6, 3, 7, 0, 7, 0, 7, 0, 2, 5, 2, 5, 2, 5, 2, 5, 2, 0, 2, 0, 2, 0, 2, 0, 2, 0, 2, 1, 2, 1, 2, 1, 2, 1, 2, 1, 2, 1, 2, 1, 2, 8, 2, 8, 3, 0, 3, 0, 6, 9, 6, 9, 6, 9, 8, 6, 6, 2, 6, 2, 7, 2, 7, 2, 7, 2, 6, 2, 6, 2, 6, 2, 7, 6, 7, 6, 4, 0, 4, 0, 4, 0, 1, 9, 1, 9, 1, 9, 1, 9, 1, 9, 1, 9, 1, 9, 1, 9, 3, 5, 3, 5, 3, 5, 3, 5, 3, 7, 3, 7, 3, 7, 3, 7, 3, 7, 3, 7, 3, 7, 1, 5, 1, 5, 1, 5, 1, 5, 7, 8, 7, 8, 3, 9, 3, 9, 3, 9, 5, 7, 2, 7, 2, 7, 1, 9, 1, 9, 1, 9, 3, 8, 8, 6, 8, 6, 3, 2, 3, 2, 3, 2, 8, 3, 8, 3, 6, 8, 6, 8, 6, 2, 6, 2, 6, 2, 4, 5, 4, 5, 4, 5, 4, 5, 7, 4, 7, 4, 7, 4, 2, 3, 2, 3, 2, 3, 2, 3, 2, 3, 2, 3, 2, 3, 4, 3, 4, 3, 4, 3, 4, 3, 4, 3, 4, 3, 4, 3, 5, 4, 5, 4, 5, 4, 5, 4, 5, 4, 3, 0, 3, 0, 6, 3, 6, 3, 6, 7, 6, 7, 6, 8, 6, 8, 6, 8, 3, 2, 3, 2, 3, 2, 7, 6, 7, 6, 3, 6, 3, 6, 2, 5, 2, 5, 4, 9, 4, 9, 4, 9, 0, 6, 0, 6, 8, 5, 8, 5, 8, 5, 9, 8, 9, 8, 9, 8, 2, 9, 2, 9, 9, 5, 9, 5, 1, 9, 1, 9, 1, 9, 9, 7, 9, 7, 0, 3, 0, 3, 6, 9, 6, 9, 6, 9, 8, 2, 8, 2, 8, 0, 8, 0, 8, 0, 8, 0, 8, 0, 8, 0, 8, 0, 8, 0, 1, 3, 1, 3, 1, 3, 2, 4, 2, 4, 7, 6, 7, 6, 0, 3, 0, 3, 0, 3, 5, 3, 5, 3, 5, 3, 5, 3, 5, 3, 5, 3, 5, 3, 0, 2, 0, 2, 7, 1, 7, 1, 5, 7, 5, 7, 6, 1, 6, 1, 9, 6, 9, 6, 9, 6, 5, 9, 5, 9, 3, 8, 8, 1, 8, 1, 8, 1, 3, 0, 3, 0, 3, 0, 9, 7, 9, 7, 9, 7, 9, 7, 9, 7, 9, 7, 9, 7, 9, 7, 9, 7, 7, 9, 7, 9, 2, 1, 7, 8, 7, 8, 7, 8, 6, 8, 6, 8, 4, 3, 4, 3, 9, 1, 9, 1, 9, 1, 4, 9, 4, 9, 4, 9, 4, 9, 0, 6, 7, 0, 7, 0, 9, 8, 9, 8, 9, 8, 9, 8, 6, 7, 6, 7, 4, 9, 4, 9, 4, 9, 4, 9, 3, 9, 3, 9, 4, 9, 4, 9, 8, 0, 8, 0, 8, 0, 1, 6, 1, 6, 1, 6, 2, 3, 2, 3, 2, 3, 2, 3, 8, 5, 8, 5, 8, 5, 8, 5, 8, 5, 8, 5, 8, 5, 1, 7, 1, 7, 1, 7, 8, 7, 8, 7, 6, 0, 6, 0, 6, 0, 7, 2, 7, 2, 7, 2, 1, 5, 1, 5, 3, 2, 3, 2, 8, 7, 8, 7, 5, 4, 5, 4, 5, 4, 2, 3, 2, 3, 6, 8, 6, 8, 4, 1, 4, 1, 7, 4, 7, 4, 7, 0, 7, 0, 7, 0, 6, 7, 6, 7, 8, 3, 8, 3, 1, 2, 1, 2, 7, 9, 7, 9, 7, 9, 0, 4, 3, 4, 3, 4, 7, 8, 7, 8, 7, 8, 8, 3, 8, 3, 8, 3, 4, 9, 4, 9, 4, 9, 4, 9, 4, 9, 4, 9, 4, 9, 2, 6, 2, 6, 3, 1, 3, 1, 7, 3, 7, 3, 6, 0, 6, 0, 6, 0, 1, 8, 1, 8, 1, 8, 1, 8, 1, 8, 1, 8, 8, 7, 8, 7, 8, 7, 8, 7, 8, 7, 8, 7, 3, 0, 3, 0, 8, 9, 8, 9, 8, 9, 2, 5, 2, 5, 7, 0, 7, 0, 8, 6, 8, 6, 4, 3, 4, 3, 4, 3, 3, 2, 3, 2, 5, 1, 5, 1, 8, 9, 8, 9, 8, 9, 6, 0, 6, 0, 6, 0, 7, 6, 7, 6, 8, 5, 8, 5, 6, 2, 6, 2, 6, 2, 0, 5, 0, 5, 0, 5, 1, 4, 1, 4, 1, 4, 1, 4, 1, 4, 1, 4, 2, 8, 2, 8, 9, 6, 9, 6, 9, 6, 1, 5, 5, 8, 5, 8, 4, 8, 4, 8, 0, 8, 0, 8, 4, 6, 4, 6, 0, 5, 0, 5, 8, 4, 8, 4, 8, 4, 7, 1, 7, 1, 7, 1, 5, 8, 5, 8, 5, 8, 0, 7, 0, 7, 9, 4, 9, 4, 9, 4, 5, 4, 5, 4, 5, 4, 5, 4, 5, 4, 5, 4, 7, 5, 7, 5, 7, 1, 7, 1, 8, 0, 8, 0, 2, 3, 2, 3, 2, 3, 5, 4, 5, 4, 5, 4, 5, 4, 5, 4, 5, 4, 5, 4, 5, 4, 5, 4, 1, 9, 1, 9, 1, 9, 1, 9, 1, 9, 1, 9, 1, 9, 1, 9, 2, 3, 2, 3, 2, 3, 0, 5, 0, 5, 0, 5, 5, 3, 5, 3, 5, 3, 5, 3, 5, 3, 5, 3, 5, 3, 5, 3, 1, 7, 1, 7, 7, 9, 7, 9, 7, 9, 7, 3, 0, 4, 0, 4, 0, 4, 8, 4, 8, 4, 8, 4, 8, 4, 8, 4, 9, 0, 9, 0, 9, 0, 9, 0, 9, 1, 9, 1, 9, 1, 9, 1, 9, 1, 9, 1, 9, 1, 9, 1, 1, 9, 1, 9, 1, 9, 0, 1, 3, 2, 3, 2, 3, 2, 9, 0, 9, 0, 9, 0, 9, 0, 9, 0, 9, 0, 9, 0, 9, 0, 0, 7, 2, 7, 2, 7, 3, 4, 3, 4, 3, 4, 2, 0, 2, 0, 2, 0, 2, 0, 2, 0, 2, 0, 4, 7, 4, 7, 4, 7, 4, 7, 4, 7, 4, 7, 9, 0, 9, 0, 9, 0, 7, 5, 4, 9, 4, 9, 4, 9, 4, 9, 3, 8, 6, 8, 6, 8, 6, 8, 3, 2, 3, 2, 6, 7, 6, 7, 9, 6, 9, 6, 9, 6, 4, 1, 4, 6, 4, 6, 9, 6, 9, 6, 9, 6, 9, 6, 2, 3, 7, 4, 7, 4, 7, 4, 2, 6, 2, 6, 2, 4, 2, 4, 5, 7, 5, 7, 5, 7, 3, 5, 3, 5, 7, 4, 7, 4, 8, 4, 8, 4, 6, 4, 6, 4, 0, 7, 0, 7, 0, 7, 1, 8, 1, 8, 2, 5, 2, 5, 2, 5, 3, 1, 3, 1, 7, 6, 7, 6, 0, 4, 0, 4, 0, 4, 9, 3, 9, 3, 9, 3, 4, 6, 4, 6, 8, 6, 8, 6, 8, 6, 8, 6, 6, 9, 6, 9, 6, 9, 6, 0, 6, 0, 6, 0, 1, 4, 1, 4, 1, 4, 4, 7, 4, 7, 4, 7, 4, 7, 4, 7, 4, 7, 4, 7, 9, 7, 9, 7, 9, 7, 9, 7, 0, 4, 5, 7, 5, 7, 1, 5, 1, 5, 4, 6, 4, 6, 4, 6, 4, 6, 7, 3, 7, 3, 7, 3, 7, 3, 7, 3, 5, 1, 5, 1, 6, 7, 6, 7, 1, 9, 1, 9, 1, 9, 4, 5, 1, 9, 1, 9, 1, 9, 2, 4, 7, 5, 7, 5, 2, 4, 2, 4, 2, 4, 2, 4, 5, 8, 5, 8, 5, 8, 5, 8, 5, 8, 5, 8, 5, 8, 8, 9, 8, 9, 8, 9, 8, 9, 8, 9, 1, 8, 1, 8, 6, 5, 6, 5, 6, 5, 6, 5, 9, 4, 9, 4, 9, 4, 9, 3, 9, 3, 9, 3, 3, 4, 3, 4, 3, 4, 3, 4, 3, 4, 3, 4, 3, 4, 4, 7, 4, 7, 7, 5, 7, 5, 7, 5, 7, 5, 4, 5, 4, 5, 4, 5, 4, 5, 4, 5, 0, 1, 0, 1, 0, 1, 6, 3, 6, 3, 5, 1, 5, 1, 5, 4, 5, 4, 5, 8, 5, 8, 9, 0, 9, 0, 9, 0, 5, 4, 5, 4, 2, 1, 2, 1, 2, 1, 5, 6, 5, 6, 7, 1, 7, 1, 1, 4, 1, 4, 7, 9, 7, 9, 7, 9, 3, 7, 3, 7, 3, 7, 4, 0, 4, 0, 0, 3, 0, 3, 0, 3, 7, 3, 7, 3, 6, 2, 6, 2, 5, 0, 5, 0, 7, 2, 7, 2, 7, 2, 7, 2, 7, 2, 7, 2, 6, 1, 6, 1, 6, 1, 6, 1, 6, 1, 6, 1, 6, 1, 6, 1, 6, 8, 6, 8, 4, 7, 4, 7, 9, 4, 9, 4, 9, 4, 9, 4, 0, 3, 0, 3, 0, 3, 0, 3, 0, 3, 0, 3, 1, 3, 1, 3, 1, 3, 1, 3, 1, 3, 3, 9, 3, 9, 3, 9, 3, 9, 3, 9, 3, 9, 3, 9, 3, 9, 3, 9, 9, 2, 9, 2, 8, 4, 8, 4, 2, 5, 2, 5, 2, 5, 2, 5, 2, 5, 1, 6, 1, 6, 1, 6, 3, 4, 3, 4, 3, 4, 3, 4, 1, 3, 1, 3, 1, 3, 1, 3, 1, 3, 1, 3, 1, 3, 1, 2, 1, 2, 3, 9, 3, 9, 3, 9, 3, 8, 2, 9, 2, 9, 2, 9, 8, 0, 8, 0, 8, 0, 8, 0, 8, 0, 8, 0, 3, 7, 3, 7, 3, 8, 3, 8, 4, 5, 4, 5, 4, 5, 4, 5, 0, 1, 0, 1, 0, 1, 0, 1, 0, 1, 0, 1, 3, 4, 3, 4, 3, 4, 0, 8, 0, 8, 0, 8, 0, 8, 0, 8, 0, 8, 0, 8, 8, 6, 8, 6, 7, 9, 7, 9, 7, 9, 2, 7, 2, 7, 2, 7, 2, 7, 4, 6, 4, 6, 4, 6, 4, 6, 8, 7, 8, 7, 8, 7, 8, 7, 9, 4, 9, 4, 9, 4, 1, 6, 2, 6, 2, 6, 0, 1, 0, 1, 0, 1, 6, 8, 6, 8, 2, 9, 2, 9, 2, 9, 2, 9, 3, 1, 2, 0, 2, 0, 2, 0, 6, 5, 6, 5, 6, 5, 6, 5, 6, 5, 6, 5, 6, 5, 6, 5, 6, 5, 6, 5, 2, 7, 2, 7, 2, 7, 2, 7, 2, 7, 2, 7, 2, 6, 2, 6, 8, 5, 8, 5, 8, 5, 1, 0, 1, 0, 5, 8, 5, 8, 0, 5, 0, 5, 0, 5, 7, 3, 7, 3, 4, 1, 4, 1, 4, 1, 0, 1, 0, 1, 4, 2, 4, 2, 0, 6, 0, 6, 4, 1, 4, 1, 4, 1, 3, 4, 3, 4, 2, 4, 2, 4, 9, 7, 9, 7, 9, 7, 8, 7, 8, 7, 5, 3, 5, 3, 3, 0, 3, 0, 9, 7, 9, 7, 9, 7, 3, 2, 6, 7, 6, 7, 3, 9, 3, 9, 3, 9, 3, 9, 1, 6, 0, 4, 0, 4, 0, 4, 9, 3, 9, 3, 9, 3, 9, 3, 9, 3, 9, 3, 9, 3, 9, 3, 1, 5, 1, 5, 1, 5, 1, 5, 1, 5, 1, 5, 1, 5, 6, 4, 6, 4, 6, 4, 7, 6, 7, 6, 7, 6, 0, 6, 0, 6, 5, 1, 5, 1, 2, 7, 2, 7, 9, 2, 9, 2, 9, 2, 8, 1, 5, 3, 5, 3, 5, 3, 3, 0, 3, 0, 3, 0, 5, 7, 5, 7, 5, 7, 5, 7, 5, 7, 5, 7, 5, 7, 4, 3, 4, 3, 0, 4, 0, 4, 9, 1, 9, 1, 9, 1, 1, 9, 1, 9, 8, 6, 8, 6, 8, 5, 8, 5, 5, 8, 5, 8, 5, 8, 2, 3, 2, 3, 2, 3, 7, 1, 7, 1, 9, 7, 9, 7, 9, 7, 9, 7, 4, 9, 4, 9, 4, 9, 4, 9, 0, 2, 0, 4, 0, 4, 5, 9, 5, 9, 5, 9, 1, 9, 1, 9, 4, 3, 4, 3, 3, 1, 3, 1, 6, 9, 6, 9, 6, 9, 4, 2, 4, 2, 1, 3, 1, 3, 1, 3]\n"
     ]
    }
   ],
   "source": [
    "simulations = 500\n",
    "n = 10\n",
    "time = 100\n",
    "results = np.empty((simulations, 4))\n",
    "\n",
    "hist_list = []\n",
    "for i in range(simulations):\n",
    "    xs, ys, deforested = system_n_forests(np.random.uniform(0,4,n), np.random.uniform(0,4,n), \n",
    "                                          arguments, perturbed = True, timesteps = time, dt= dt)\n",
    "    for y in ys:\n",
    "        if np.isclose(y, 0):\n",
    "            hist_list.append(deforested[0])\n",
    "            hist_list.append(deforested[1])\n",
    "    \n",
    "print(hist_list)"
   ]
  },
  {
   "cell_type": "code",
   "execution_count": 18,
   "id": "426eaf79",
   "metadata": {},
   "outputs": [
    {
     "data": {
      "image/png": "[encoded data removed]",
      "text/plain": [
       "<Figure size 640x480 with 1 Axes>"
      ]
     },
     "metadata": {},
     "output_type": "display_data"
    },
    {
     "data": {
      "text/plain": [
       "<Figure size 640x480 with 0 Axes>"
      ]
     },
     "metadata": {},
     "output_type": "display_data"
    }
   ],
   "source": [
    "plt.hist(hist_list)\n",
    "plt.title(\"Location of deforested ecosystem per killed forest\")\n",
    "plt.show()\n",
    "plt.savefig(\"../plots/histogram.png\", dpi=300)"
   ]
  },
  {
   "cell_type": "code",
   "execution_count": 19,
   "id": "b038fca6",
   "metadata": {},
   "outputs": [],
   "source": [
    "f= open(\"hist_data.txt\",\"w+\")\n",
    "f.write(str(hist_list))\n",
    "f.close()"
   ]
  },
  {
   "cell_type": "code",
   "execution_count": null,
   "id": "40930d01",
   "metadata": {},
   "outputs": [],
   "source": []
  }
 ],
 "metadata": {
  "kernelspec": {
   "display_name": "Python 3 (ipykernel)",
   "language": "python",
   "name": "python3"
  },
  "language_info": {
   "codemirror_mode": {
    "name": "ipython",
    "version": 3
   },
   "file_extension": ".py",
   "mimetype": "text/x-python",
   "name": "python",
   "nbconvert_exporter": "python",
   "pygments_lexer": "ipython3",
   "version": "3.11.3"
  }
 },
 "nbformat": 4,
 "nbformat_minor": 5
}
