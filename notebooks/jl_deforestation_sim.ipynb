{
 "cells": [
  {
   "cell_type": "code",
   "execution_count": 18,
   "metadata": {},
   "outputs": [],
   "source": [
    "# Sanity check for deforestion simulation outputs\n",
    "using DataFrames\n",
    "using PyPlot\n",
    "using StatsBase\n",
    "using CSSim"
   ]
  },
  {
   "cell_type": "code",
   "execution_count": 19,
   "metadata": {},
   "outputs": [
    {
     "name": "stdout",
     "output_type": "stream",
     "text": [
      "Running deforestion simulation:"
     ]
    },
    {
     "name": "stderr",
     "output_type": "stream",
     "text": [
      "\r0.0%┣                                               ┫ 0/30 [00:00<00:00, -0s/it]\n"
     ]
    },
    {
     "name": "stderr",
     "output_type": "stream",
     "text": [
      "\u001b[1A\r3.3%┣█▍                                         ┫ 1/30 [00:02<Inf:Inf, InfGs/it]\n"
     ]
    },
    {
     "name": "stderr",
     "output_type": "stream",
     "text": [
      "\u001b[1A\r6.7%┣███▏                                            ┫ 2/30 [00:03<01:28, 3s/it]\n"
     ]
    },
    {
     "name": "stderr",
     "output_type": "stream",
     "text": [
      "\u001b[1A\r10.0%┣████▊                                          ┫ 3/30 [00:05<01:05, 2s/it]\n"
     ]
    },
    {
     "name": "stderr",
     "output_type": "stream",
     "text": [
      "\u001b[1A\r13.3%┣██████▎                                        ┫ 4/30 [00:06<00:56, 2s/it]\n"
     ]
    },
    {
     "name": "stderr",
     "output_type": "stream",
     "text": [
      "\u001b[1A\r16.7%┣███████▉                                       ┫ 5/30 [00:08<00:50, 2s/it]\n"
     ]
    },
    {
     "name": "stderr",
     "output_type": "stream",
     "text": [
      "\u001b[1A\r20.0%┣█████████▍                                     ┫ 6/30 [00:10<00:46, 2s/it]\n"
     ]
    },
    {
     "name": "stderr",
     "output_type": "stream",
     "text": [
      "\u001b[1A\r23.3%┣███████████                                    ┫ 7/30 [00:11<00:43, 2s/it]\n"
     ]
    },
    {
     "name": "stderr",
     "output_type": "stream",
     "text": [
      "\u001b[1A\r26.7%┣████████████▌                                  ┫ 8/30 [00:13<00:40, 2s/it]\n"
     ]
    },
    {
     "name": "stderr",
     "output_type": "stream",
     "text": [
      "\u001b[1A\r30.0%┣██████████████                                 ┫ 9/30 [00:14<00:38, 2s/it]\n"
     ]
    },
    {
     "name": "stderr",
     "output_type": "stream",
     "text": [
      "\u001b[1A\r33.3%┣███████████████▎                              ┫ 10/30 [00:16<00:35, 2s/it]\n"
     ]
    },
    {
     "name": "stderr",
     "output_type": "stream",
     "text": [
      "\u001b[1A\r36.7%┣████████████████▉                             ┫ 11/30 [00:17<00:33, 2s/it]\n"
     ]
    },
    {
     "name": "stderr",
     "output_type": "stream",
     "text": [
      "\u001b[1A\r40.0%┣██████████████████▍                           ┫ 12/30 [00:19<00:31, 2s/it]\n"
     ]
    },
    {
     "name": "stderr",
     "output_type": "stream",
     "text": [
      "\u001b[1A\r43.3%┣████████████████████                          ┫ 13/30 [00:21<00:29, 2s/it]\n"
     ]
    },
    {
     "name": "stderr",
     "output_type": "stream",
     "text": [
      "\u001b[1A\r46.7%┣█████████████████████▌                        ┫ 14/30 [00:22<00:27, 2s/it]\n"
     ]
    },
    {
     "name": "stderr",
     "output_type": "stream",
     "text": [
      "\u001b[1A\r50.0%┣███████████████████████                       ┫ 15/30 [00:24<00:26, 2s/it]\n"
     ]
    },
    {
     "name": "stderr",
     "output_type": "stream",
     "text": [
      "\u001b[1A\r53.3%┣████████████████████████▌                     ┫ 16/30 [00:25<00:24, 2s/it]\n"
     ]
    },
    {
     "name": "stderr",
     "output_type": "stream",
     "text": [
      "\u001b[1A\r56.7%┣██████████████████████████                    ┫ 17/30 [00:27<00:22, 2s/it]\n"
     ]
    },
    {
     "name": "stderr",
     "output_type": "stream",
     "text": [
      "\u001b[1A\r60.0%┣███████████████████████████▋                  ┫ 18/30 [00:29<00:20, 2s/it]\n"
     ]
    },
    {
     "name": "stderr",
     "output_type": "stream",
     "text": [
      "\u001b[1A\r63.3%┣█████████████████████████████▏                ┫ 19/30 [00:30<00:18, 2s/it]\n"
     ]
    },
    {
     "name": "stderr",
     "output_type": "stream",
     "text": [
      "\u001b[1A\r66.7%┣██████████████████████████████▋               ┫ 20/30 [00:32<00:17, 2s/it]\n"
     ]
    },
    {
     "name": "stderr",
     "output_type": "stream",
     "text": [
      "\u001b[1A\r70.0%┣████████████████████████████████▏             ┫ 21/30 [00:33<00:15, 2s/it]\n"
     ]
    },
    {
     "name": "stderr",
     "output_type": "stream",
     "text": [
      "\u001b[1A\r73.3%┣█████████████████████████████████▊            ┫ 22/30 [00:35<00:13, 2s/it]\n"
     ]
    },
    {
     "name": "stderr",
     "output_type": "stream",
     "text": [
      "\u001b[1A\r76.7%┣███████████████████████████████████▎          ┫ 23/30 [00:36<00:12, 2s/it]\n"
     ]
    },
    {
     "name": "stderr",
     "output_type": "stream",
     "text": [
      "\u001b[1A\r80.0%┣████████████████████████████████████▉         ┫ 24/30 [00:38<00:10, 2s/it]\n"
     ]
    },
    {
     "name": "stderr",
     "output_type": "stream",
     "text": [
      "\u001b[1A\r83.3%┣██████████████████████████████████████▎       ┫ 25/30 [00:39<00:08, 2s/it]\n"
     ]
    },
    {
     "name": "stderr",
     "output_type": "stream",
     "text": [
      "\u001b[1A\r86.7%┣███████████████████████████████████████▉      ┫ 26/30 [00:41<00:07, 2s/it]\n"
     ]
    },
    {
     "name": "stderr",
     "output_type": "stream",
     "text": [
      "\u001b[1A\r90.0%┣█████████████████████████████████████████▍    ┫ 27/30 [00:43<00:05, 2s/it]\n"
     ]
    },
    {
     "name": "stderr",
     "output_type": "stream",
     "text": [
      "\u001b[1A\r93.3%┣███████████████████████████████████████████   ┫ 28/30 [00:44<00:03, 2s/it]\n"
     ]
    },
    {
     "name": "stderr",
     "output_type": "stream",
     "text": [
      "\u001b[1A\r96.7%┣████████████████████████████████████████████▌ ┫ 29/30 [00:46<00:02, 2s/it]\n"
     ]
    },
    {
     "name": "stdout",
     "output_type": "stream",
     "text": [
      "Simulation complete!\n"
     ]
    },
    {
     "name": "stderr",
     "output_type": "stream",
     "text": [
      "\u001b[1A\r100.0%┣█████████████████████████████████████████████┫ 30/30 [00:47<00:00, 2s/it]\n",
      "\u001b[1A\r100.0%┣█████████████████████████████████████████████┫ 30/30 [00:47<00:00, 2s/it]\n"
     ]
    },
    {
     "data": {
      "text/html": [
       "<div><div style = \"float: left;\"><span>1350×3 DataFrame</span></div><div style = \"float: right;\"><span style = \"font-style: italic;\">1325 rows omitted</span></div><div style = \"clear: both;\"></div></div><div class = \"data-frame\" style = \"overflow-x: scroll;\"><table class = \"data-frame\" style = \"margin-bottom: 6px;\"><thead><tr class = \"header\"><th class = \"rowNumber\" style = \"font-weight: bold; text-align: right;\">Row</th><th style = \"text-align: left;\">deforested_position_1</th><th style = \"text-align: left;\">deforested_position_2</th><th style = \"text-align: left;\">num_ecosystems_killed</th></tr><tr class = \"subheader headerLastRow\"><th class = \"rowNumber\" style = \"font-weight: bold; text-align: right;\"></th><th title = \"Any\" style = \"text-align: left;\">Any</th><th title = \"Any\" style = \"text-align: left;\">Any</th><th title = \"Any\" style = \"text-align: left;\">Any</th></tr></thead><tbody><tr><td class = \"rowNumber\" style = \"font-weight: bold; text-align: right;\">1</td><td style = \"text-align: left;\">1</td><td style = \"text-align: left;\">2</td><td style = \"text-align: left;\">10</td></tr><tr><td class = \"rowNumber\" style = \"font-weight: bold; text-align: right;\">2</td><td style = \"text-align: left;\">1</td><td style = \"text-align: left;\">3</td><td style = \"text-align: left;\">10</td></tr><tr><td class = \"rowNumber\" style = \"font-weight: bold; text-align: right;\">3</td><td style = \"text-align: left;\">1</td><td style = \"text-align: left;\">4</td><td style = \"text-align: left;\">10</td></tr><tr><td class = \"rowNumber\" style = \"font-weight: bold; text-align: right;\">4</td><td style = \"text-align: left;\">1</td><td style = \"text-align: left;\">5</td><td style = \"text-align: left;\">10</td></tr><tr><td class = \"rowNumber\" style = \"font-weight: bold; text-align: right;\">5</td><td style = \"text-align: left;\">1</td><td style = \"text-align: left;\">6</td><td style = \"text-align: left;\">10</td></tr><tr><td class = \"rowNumber\" style = \"font-weight: bold; text-align: right;\">6</td><td style = \"text-align: left;\">1</td><td style = \"text-align: left;\">7</td><td style = \"text-align: left;\">10</td></tr><tr><td class = \"rowNumber\" style = \"font-weight: bold; text-align: right;\">7</td><td style = \"text-align: left;\">1</td><td style = \"text-align: left;\">8</td><td style = \"text-align: left;\">10</td></tr><tr><td class = \"rowNumber\" style = \"font-weight: bold; text-align: right;\">8</td><td style = \"text-align: left;\">1</td><td style = \"text-align: left;\">9</td><td style = \"text-align: left;\">10</td></tr><tr><td class = \"rowNumber\" style = \"font-weight: bold; text-align: right;\">9</td><td style = \"text-align: left;\">1</td><td style = \"text-align: left;\">10</td><td style = \"text-align: left;\">2</td></tr><tr><td class = \"rowNumber\" style = \"font-weight: bold; text-align: right;\">10</td><td style = \"text-align: left;\">2</td><td style = \"text-align: left;\">3</td><td style = \"text-align: left;\">9</td></tr><tr><td class = \"rowNumber\" style = \"font-weight: bold; text-align: right;\">11</td><td style = \"text-align: left;\">2</td><td style = \"text-align: left;\">4</td><td style = \"text-align: left;\">9</td></tr><tr><td class = \"rowNumber\" style = \"font-weight: bold; text-align: right;\">12</td><td style = \"text-align: left;\">2</td><td style = \"text-align: left;\">5</td><td style = \"text-align: left;\">9</td></tr><tr><td class = \"rowNumber\" style = \"font-weight: bold; text-align: right;\">13</td><td style = \"text-align: left;\">2</td><td style = \"text-align: left;\">6</td><td style = \"text-align: left;\">9</td></tr><tr><td style = \"text-align: right;\">&vellip;</td><td style = \"text-align: right;\">&vellip;</td><td style = \"text-align: right;\">&vellip;</td><td style = \"text-align: right;\">&vellip;</td></tr><tr><td class = \"rowNumber\" style = \"font-weight: bold; text-align: right;\">1339</td><td style = \"text-align: left;\">5</td><td style = \"text-align: left;\">9</td><td style = \"text-align: left;\">9</td></tr><tr><td class = \"rowNumber\" style = \"font-weight: bold; text-align: right;\">1340</td><td style = \"text-align: left;\">5</td><td style = \"text-align: left;\">10</td><td style = \"text-align: left;\">2</td></tr><tr><td class = \"rowNumber\" style = \"font-weight: bold; text-align: right;\">1341</td><td style = \"text-align: left;\">6</td><td style = \"text-align: left;\">7</td><td style = \"text-align: left;\">9</td></tr><tr><td class = \"rowNumber\" style = \"font-weight: bold; text-align: right;\">1342</td><td style = \"text-align: left;\">6</td><td style = \"text-align: left;\">8</td><td style = \"text-align: left;\">9</td></tr><tr><td class = \"rowNumber\" style = \"font-weight: bold; text-align: right;\">1343</td><td style = \"text-align: left;\">6</td><td style = \"text-align: left;\">9</td><td style = \"text-align: left;\">9</td></tr><tr><td class = \"rowNumber\" style = \"font-weight: bold; text-align: right;\">1344</td><td style = \"text-align: left;\">6</td><td style = \"text-align: left;\">10</td><td style = \"text-align: left;\">9</td></tr><tr><td class = \"rowNumber\" style = \"font-weight: bold; text-align: right;\">1345</td><td style = \"text-align: left;\">7</td><td style = \"text-align: left;\">8</td><td style = \"text-align: left;\">9</td></tr><tr><td class = \"rowNumber\" style = \"font-weight: bold; text-align: right;\">1346</td><td style = \"text-align: left;\">7</td><td style = \"text-align: left;\">9</td><td style = \"text-align: left;\">9</td></tr><tr><td class = \"rowNumber\" style = \"font-weight: bold; text-align: right;\">1347</td><td style = \"text-align: left;\">7</td><td style = \"text-align: left;\">10</td><td style = \"text-align: left;\">9</td></tr><tr><td class = \"rowNumber\" style = \"font-weight: bold; text-align: right;\">1348</td><td style = \"text-align: left;\">8</td><td style = \"text-align: left;\">9</td><td style = \"text-align: left;\">9</td></tr><tr><td class = \"rowNumber\" style = \"font-weight: bold; text-align: right;\">1349</td><td style = \"text-align: left;\">8</td><td style = \"text-align: left;\">10</td><td style = \"text-align: left;\">9</td></tr><tr><td class = \"rowNumber\" style = \"font-weight: bold; text-align: right;\">1350</td><td style = \"text-align: left;\">9</td><td style = \"text-align: left;\">10</td><td style = \"text-align: left;\">9</td></tr></tbody></table></div>"
      ],
      "text/latex": [
       "\\begin{tabular}{r|ccc}\n",
       "\t& deforested\\_position\\_1 & deforested\\_position\\_2 & num\\_ecosystems\\_killed\\\\\n",
       "\t\\hline\n",
       "\t& Any & Any & Any\\\\\n",
       "\t\\hline\n",
       "\t1 & 1 & 2 & 10 \\\\\n",
       "\t2 & 1 & 3 & 10 \\\\\n",
       "\t3 & 1 & 4 & 10 \\\\\n",
       "\t4 & 1 & 5 & 10 \\\\\n",
       "\t5 & 1 & 6 & 10 \\\\\n",
       "\t6 & 1 & 7 & 10 \\\\\n",
       "\t7 & 1 & 8 & 10 \\\\\n",
       "\t8 & 1 & 9 & 10 \\\\\n",
       "\t9 & 1 & 10 & 2 \\\\\n",
       "\t10 & 2 & 3 & 9 \\\\\n",
       "\t11 & 2 & 4 & 9 \\\\\n",
       "\t12 & 2 & 5 & 9 \\\\\n",
       "\t13 & 2 & 6 & 9 \\\\\n",
       "\t14 & 2 & 7 & 9 \\\\\n",
       "\t15 & 2 & 8 & 9 \\\\\n",
       "\t16 & 2 & 9 & 9 \\\\\n",
       "\t17 & 2 & 10 & 2 \\\\\n",
       "\t18 & 3 & 4 & 9 \\\\\n",
       "\t19 & 3 & 5 & 9 \\\\\n",
       "\t20 & 3 & 6 & 9 \\\\\n",
       "\t21 & 3 & 7 & 9 \\\\\n",
       "\t22 & 3 & 8 & 9 \\\\\n",
       "\t23 & 3 & 9 & 9 \\\\\n",
       "\t24 & 3 & 10 & 2 \\\\\n",
       "\t$\\dots$ & $\\dots$ & $\\dots$ & $\\dots$ \\\\\n",
       "\\end{tabular}\n"
      ],
      "text/plain": [
       "\u001b[1m1350×3 DataFrame\u001b[0m\n",
       "\u001b[1m  Row \u001b[0m│\u001b[1m deforested_position_1 \u001b[0m\u001b[1m deforested_position_2 \u001b[0m\u001b[1m num_ecosystems_killed \u001b[0m\n",
       "      │\u001b[90m Any                   \u001b[0m\u001b[90m Any                   \u001b[0m\u001b[90m Any                   \u001b[0m\n",
       "──────┼─────────────────────────────────────────────────────────────────────\n",
       "    1 │ 1                      2                      10\n",
       "    2 │ 1                      3                      10\n",
       "    3 │ 1                      4                      10\n",
       "    4 │ 1                      5                      10\n",
       "    5 │ 1                      6                      10\n",
       "    6 │ 1                      7                      10\n",
       "    7 │ 1                      8                      10\n",
       "    8 │ 1                      9                      10\n",
       "  ⋮   │           ⋮                      ⋮                      ⋮\n",
       " 1344 │ 6                      10                     9\n",
       " 1345 │ 7                      8                      9\n",
       " 1346 │ 7                      9                      9\n",
       " 1347 │ 7                      10                     9\n",
       " 1348 │ 8                      9                      9\n",
       " 1349 │ 8                      10                     9\n",
       " 1350 │ 9                      10                     9\n",
       "\u001b[36m                                                           1335 rows omitted\u001b[0m"
      ]
     },
     "metadata": {},
     "output_type": "display_data"
    }
   ],
   "source": [
    "results = deforested_position_sim(30)"
   ]
  },
  {
   "cell_type": "code",
   "execution_count": 20,
   "metadata": {},
   "outputs": [
    {
     "data": {
      "text/html": [
       "<div><div style = \"float: left;\"><span>45×3 DataFrame</span></div><div style = \"float: right;\"><span style = \"font-style: italic;\">20 rows omitted</span></div><div style = \"clear: both;\"></div></div><div class = \"data-frame\" style = \"overflow-x: scroll;\"><table class = \"data-frame\" style = \"margin-bottom: 6px;\"><thead><tr class = \"header\"><th class = \"rowNumber\" style = \"font-weight: bold; text-align: right;\">Row</th><th style = \"text-align: left;\">deforested_position_1</th><th style = \"text-align: left;\">deforested_position_2</th><th style = \"text-align: left;\">num_ecosystems_killed_mean</th></tr><tr class = \"subheader headerLastRow\"><th class = \"rowNumber\" style = \"font-weight: bold; text-align: right;\"></th><th title = \"Any\" style = \"text-align: left;\">Any</th><th title = \"Any\" style = \"text-align: left;\">Any</th><th title = \"Float64\" style = \"text-align: left;\">Float64</th></tr></thead><tbody><tr><td class = \"rowNumber\" style = \"font-weight: bold; text-align: right;\">1</td><td style = \"text-align: left;\">1</td><td style = \"text-align: left;\">2</td><td style = \"text-align: right;\">10.0</td></tr><tr><td class = \"rowNumber\" style = \"font-weight: bold; text-align: right;\">2</td><td style = \"text-align: left;\">1</td><td style = \"text-align: left;\">3</td><td style = \"text-align: right;\">10.0</td></tr><tr><td class = \"rowNumber\" style = \"font-weight: bold; text-align: right;\">3</td><td style = \"text-align: left;\">1</td><td style = \"text-align: left;\">4</td><td style = \"text-align: right;\">10.0</td></tr><tr><td class = \"rowNumber\" style = \"font-weight: bold; text-align: right;\">4</td><td style = \"text-align: left;\">1</td><td style = \"text-align: left;\">5</td><td style = \"text-align: right;\">10.0</td></tr><tr><td class = \"rowNumber\" style = \"font-weight: bold; text-align: right;\">5</td><td style = \"text-align: left;\">1</td><td style = \"text-align: left;\">6</td><td style = \"text-align: right;\">10.0</td></tr><tr><td class = \"rowNumber\" style = \"font-weight: bold; text-align: right;\">6</td><td style = \"text-align: left;\">1</td><td style = \"text-align: left;\">7</td><td style = \"text-align: right;\">10.0</td></tr><tr><td class = \"rowNumber\" style = \"font-weight: bold; text-align: right;\">7</td><td style = \"text-align: left;\">1</td><td style = \"text-align: left;\">8</td><td style = \"text-align: right;\">10.0</td></tr><tr><td class = \"rowNumber\" style = \"font-weight: bold; text-align: right;\">8</td><td style = \"text-align: left;\">1</td><td style = \"text-align: left;\">9</td><td style = \"text-align: right;\">10.0</td></tr><tr><td class = \"rowNumber\" style = \"font-weight: bold; text-align: right;\">9</td><td style = \"text-align: left;\">1</td><td style = \"text-align: left;\">10</td><td style = \"text-align: right;\">2.0</td></tr><tr><td class = \"rowNumber\" style = \"font-weight: bold; text-align: right;\">10</td><td style = \"text-align: left;\">2</td><td style = \"text-align: left;\">3</td><td style = \"text-align: right;\">9.0</td></tr><tr><td class = \"rowNumber\" style = \"font-weight: bold; text-align: right;\">11</td><td style = \"text-align: left;\">2</td><td style = \"text-align: left;\">4</td><td style = \"text-align: right;\">9.0</td></tr><tr><td class = \"rowNumber\" style = \"font-weight: bold; text-align: right;\">12</td><td style = \"text-align: left;\">2</td><td style = \"text-align: left;\">5</td><td style = \"text-align: right;\">9.0</td></tr><tr><td class = \"rowNumber\" style = \"font-weight: bold; text-align: right;\">13</td><td style = \"text-align: left;\">2</td><td style = \"text-align: left;\">6</td><td style = \"text-align: right;\">9.0</td></tr><tr><td style = \"text-align: right;\">&vellip;</td><td style = \"text-align: right;\">&vellip;</td><td style = \"text-align: right;\">&vellip;</td><td style = \"text-align: right;\">&vellip;</td></tr><tr><td class = \"rowNumber\" style = \"font-weight: bold; text-align: right;\">34</td><td style = \"text-align: left;\">5</td><td style = \"text-align: left;\">9</td><td style = \"text-align: right;\">9.0</td></tr><tr><td class = \"rowNumber\" style = \"font-weight: bold; text-align: right;\">35</td><td style = \"text-align: left;\">5</td><td style = \"text-align: left;\">10</td><td style = \"text-align: right;\">2.0</td></tr><tr><td class = \"rowNumber\" style = \"font-weight: bold; text-align: right;\">36</td><td style = \"text-align: left;\">6</td><td style = \"text-align: left;\">7</td><td style = \"text-align: right;\">9.0</td></tr><tr><td class = \"rowNumber\" style = \"font-weight: bold; text-align: right;\">37</td><td style = \"text-align: left;\">6</td><td style = \"text-align: left;\">8</td><td style = \"text-align: right;\">9.0</td></tr><tr><td class = \"rowNumber\" style = \"font-weight: bold; text-align: right;\">38</td><td style = \"text-align: left;\">6</td><td style = \"text-align: left;\">9</td><td style = \"text-align: right;\">9.0</td></tr><tr><td class = \"rowNumber\" style = \"font-weight: bold; text-align: right;\">39</td><td style = \"text-align: left;\">6</td><td style = \"text-align: left;\">10</td><td style = \"text-align: right;\">9.0</td></tr><tr><td class = \"rowNumber\" style = \"font-weight: bold; text-align: right;\">40</td><td style = \"text-align: left;\">7</td><td style = \"text-align: left;\">8</td><td style = \"text-align: right;\">9.0</td></tr><tr><td class = \"rowNumber\" style = \"font-weight: bold; text-align: right;\">41</td><td style = \"text-align: left;\">7</td><td style = \"text-align: left;\">9</td><td style = \"text-align: right;\">9.0</td></tr><tr><td class = \"rowNumber\" style = \"font-weight: bold; text-align: right;\">42</td><td style = \"text-align: left;\">7</td><td style = \"text-align: left;\">10</td><td style = \"text-align: right;\">9.0</td></tr><tr><td class = \"rowNumber\" style = \"font-weight: bold; text-align: right;\">43</td><td style = \"text-align: left;\">8</td><td style = \"text-align: left;\">9</td><td style = \"text-align: right;\">9.0</td></tr><tr><td class = \"rowNumber\" style = \"font-weight: bold; text-align: right;\">44</td><td style = \"text-align: left;\">8</td><td style = \"text-align: left;\">10</td><td style = \"text-align: right;\">9.0</td></tr><tr><td class = \"rowNumber\" style = \"font-weight: bold; text-align: right;\">45</td><td style = \"text-align: left;\">9</td><td style = \"text-align: left;\">10</td><td style = \"text-align: right;\">9.0</td></tr></tbody></table></div>"
      ],
      "text/latex": [
       "\\begin{tabular}{r|ccc}\n",
       "\t& deforested\\_position\\_1 & deforested\\_position\\_2 & num\\_ecosystems\\_killed\\_mean\\\\\n",
       "\t\\hline\n",
       "\t& Any & Any & Float64\\\\\n",
       "\t\\hline\n",
       "\t1 & 1 & 2 & 10.0 \\\\\n",
       "\t2 & 1 & 3 & 10.0 \\\\\n",
       "\t3 & 1 & 4 & 10.0 \\\\\n",
       "\t4 & 1 & 5 & 10.0 \\\\\n",
       "\t5 & 1 & 6 & 10.0 \\\\\n",
       "\t6 & 1 & 7 & 10.0 \\\\\n",
       "\t7 & 1 & 8 & 10.0 \\\\\n",
       "\t8 & 1 & 9 & 10.0 \\\\\n",
       "\t9 & 1 & 10 & 2.0 \\\\\n",
       "\t10 & 2 & 3 & 9.0 \\\\\n",
       "\t11 & 2 & 4 & 9.0 \\\\\n",
       "\t12 & 2 & 5 & 9.0 \\\\\n",
       "\t13 & 2 & 6 & 9.0 \\\\\n",
       "\t14 & 2 & 7 & 9.0 \\\\\n",
       "\t15 & 2 & 8 & 9.0 \\\\\n",
       "\t16 & 2 & 9 & 9.0 \\\\\n",
       "\t17 & 2 & 10 & 2.0 \\\\\n",
       "\t18 & 3 & 4 & 9.0 \\\\\n",
       "\t19 & 3 & 5 & 9.0 \\\\\n",
       "\t20 & 3 & 6 & 9.0 \\\\\n",
       "\t21 & 3 & 7 & 9.0 \\\\\n",
       "\t22 & 3 & 8 & 9.0 \\\\\n",
       "\t23 & 3 & 9 & 9.0 \\\\\n",
       "\t24 & 3 & 10 & 2.0 \\\\\n",
       "\t$\\dots$ & $\\dots$ & $\\dots$ & $\\dots$ \\\\\n",
       "\\end{tabular}\n"
      ],
      "text/plain": [
       "\u001b[1m45×3 DataFrame\u001b[0m\n",
       "\u001b[1m Row \u001b[0m│\u001b[1m deforested_position_1 \u001b[0m\u001b[1m deforested_position_2 \u001b[0m\u001b[1m num_ecosystems_killed_mea\u001b[0m ⋯\n",
       "     │\u001b[90m Any                   \u001b[0m\u001b[90m Any                   \u001b[0m\u001b[90m Float64                  \u001b[0m ⋯\n",
       "─────┼──────────────────────────────────────────────────────────────────────────\n",
       "   1 │ 1                      2                                            10. ⋯\n",
       "   2 │ 1                      3                                            10.\n",
       "   3 │ 1                      4                                            10.\n",
       "   4 │ 1                      5                                            10.\n",
       "   5 │ 1                      6                                            10. ⋯\n",
       "   6 │ 1                      7                                            10.\n",
       "   7 │ 1                      8                                            10.\n",
       "   8 │ 1                      9                                            10.\n",
       "  ⋮  │           ⋮                      ⋮                        ⋮             ⋱\n",
       "  39 │ 6                      10                                            9. ⋯\n",
       "  40 │ 7                      8                                             9.\n",
       "  41 │ 7                      9                                             9.\n",
       "  42 │ 7                      10                                            9.\n",
       "  43 │ 8                      9                                             9. ⋯\n",
       "  44 │ 8                      10                                            9.\n",
       "  45 │ 9                      10                                            9.\n",
       "\u001b[36m                                                    1 column and 30 rows omitted\u001b[0m"
      ]
     },
     "metadata": {},
     "output_type": "display_data"
    }
   ],
   "source": [
    "# Group the data and then compute the mean number of killed ecosystesm \n",
    "# for the different position combinations \n",
    "results_grouped = groupby(\n",
    "    results, [:deforested_position_1, :deforested_position_2])\n",
    "\n",
    "results_meaned = combine(results_grouped, :num_ecosystems_killed => mean)"
   ]
  },
  {
   "cell_type": "code",
   "execution_count": 21,
   "metadata": {},
   "outputs": [
    {
     "data": {
      "text/plain": [
       "10×10 Matrix{Float64}:\n",
       " 0.0  10.0  10.0  10.0  10.0  10.0  10.0  10.0  10.0  2.0\n",
       " 0.0   0.0   9.0   9.0   9.0   9.0   9.0   9.0   9.0  2.0\n",
       " 0.0   0.0   0.0   9.0   9.0   9.0   9.0   9.0   9.0  2.0\n",
       " 0.0   0.0   0.0   0.0   9.0   9.0   9.0   9.0   9.0  2.0\n",
       " 0.0   0.0   0.0   0.0   0.0   9.0   9.0   9.0   9.0  2.0\n",
       " 0.0   0.0   0.0   0.0   0.0   0.0   9.0   9.0   9.0  9.0\n",
       " 0.0   0.0   0.0   0.0   0.0   0.0   0.0   9.0   9.0  9.0\n",
       " 0.0   0.0   0.0   0.0   0.0   0.0   0.0   0.0   9.0  9.0\n",
       " 0.0   0.0   0.0   0.0   0.0   0.0   0.0   0.0   0.0  9.0\n",
       " 0.0   0.0   0.0   0.0   0.0   0.0   0.0   0.0   0.0  0.0"
      ]
     },
     "metadata": {},
     "output_type": "display_data"
    }
   ],
   "source": [
    "heatmap_matrix = zeros(10, 10)\n",
    "for row in eachrow(results_meaned)\n",
    "    # Extract rows \n",
    "    p1 = row.deforested_position_1\n",
    "    p2 = row.deforested_position_2\n",
    "    num_ecosystems_killed_mean = row.num_ecosystems_killed_mean\n",
    "\n",
    "    # Assign to the heatmap the mean number of killed ecosystems\n",
    "    heatmap_matrix[p1, p2] = num_ecosystems_killed_mean\n",
    "    #heatmap_matrix[p2, p1] = num_ecosystems_killed_mean\n",
    "end \n",
    "heatmap_matrix"
   ]
  },
  {
   "cell_type": "code",
   "execution_count": 22,
   "metadata": {},
   "outputs": [
    {
     "data": {
      "image/png": "[encoded data removed]",
      "text/plain": [
       "Figure(PyObject <Figure size 640x480 with 1 Axes>)"
      ]
     },
     "metadata": {},
     "output_type": "display_data"
    }
   ],
   "source": [
    "fig, ax = plt.subplots()\n",
    "ax.imshow(heatmap_matrix, cmap=\"hot\")\n",
    "fig "
   ]
  },
  {
   "cell_type": "code",
   "execution_count": 23,
   "metadata": {},
   "outputs": [],
   "source": []
  }
 ],
 "metadata": {
  "kernelspec": {
   "display_name": "Julia 1.9.0",
   "language": "julia",
   "name": "julia-1.9"
  },
  "language_info": {
   "file_extension": ".jl",
   "mimetype": "application/julia",
   "name": "julia",
   "version": "1.9.0"
  },
  "orig_nbformat": 4
 },
 "nbformat": 4,
 "nbformat_minor": 2
}
