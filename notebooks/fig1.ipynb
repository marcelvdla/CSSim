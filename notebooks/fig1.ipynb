{
 "cells": [
  {
   "cell_type": "code",
   "execution_count": null,
   "id": "b13779c4",
   "metadata": {},
   "outputs": [],
   "source": [
    "# Produce figure 1, phase portrait of Antonovsky model from Cantin2020\n",
    "using DrWatson\n",
    "using Distributions\n",
    "using Random"
   ]
  },
  {
   "cell_type": "code",
   "execution_count": null,
   "id": "2f6035c2",
   "metadata": {},
   "outputs": [],
   "source": [
    "# Define parameters\n",
    "ρ = 4.2\n",
    "f = 1\n",
    "h = 2\n",
    "\n",
    "# Determine number of timesteps and initial states\n",
    "T = 100\n",
    "n_initial_points = 100\n",
    "n_states = 2\n",
    "\n",
    "# Create initial states\n",
    "rng = MersenneTwister(42)\n",
    "u0s = rand(rng, Uniform(0, 5), (n_initial_points, n_states))\n",
    "\n",
    "# Iterate through initial states and create phase portrait\n",
    "nrows = size(u0s)[1]\n",
    "for i in 1:nrows\n",
    "    ds = one_forest_system(u0s[i,:], ρ = ρ, f = f, h = h)\n",
    "    trajectory_ds = trajectory(ds, T)\n",
    "    young_tree_density_x, old_tree_density_y = trajectory_ds\n",
    "    break\n",
    "end"
   ]
  }
 ],
 "metadata": {
  "kernelspec": {
   "display_name": "Julia 1.9.0",
   "language": "julia",
   "name": "julia-1.9"
  }
 },
 "nbformat": 4,
 "nbformat_minor": 5
}
