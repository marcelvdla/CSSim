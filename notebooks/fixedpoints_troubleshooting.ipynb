{
 "cells": [
  {
   "cell_type": "code",
   "execution_count": 1,
   "metadata": {},
   "outputs": [
    {
     "ename": "MethodError",
     "evalue": "MethodError: no method matching CoupledODEs(::typeof(lorenz96!), ::Vector{Float64}, ::Tuple{Float64, Float64}, ::Float64)\n\nClosest candidates are:\n  CoupledODEs(::Any, ::Any, ::Any; t0, diffeq)\n   @ DynamicalSystemsBase ~/.julia/packages/DynamicalSystemsBase/9MGYI/src/core_systems/continuous_time_ode.jl:79\n  CoupledODEs(::Any, ::Any, ::Any, !Matched::Function)\n   @ DynamicalSystemsBase ~/.julia/packages/DynamicalSystemsBase/9MGYI/src/deprecations.jl:13\n  CoupledODEs(::Any, ::Any)\n   @ DynamicalSystemsBase ~/.julia/packages/DynamicalSystemsBase/9MGYI/src/core_systems/continuous_time_ode.jl:79\n  ...\n",
     "output_type": "error",
     "traceback": [
      "MethodError: no method matching CoupledODEs(::typeof(lorenz96!), ::Vector{Float64}, ::Tuple{Float64, Float64}, ::Float64)\n",
      "\n",
      "Closest candidates are:\n",
      "  CoupledODEs(::Any, ::Any, ::Any; t0, diffeq)\n",
      "   @ DynamicalSystemsBase ~/.julia/packages/DynamicalSystemsBase/9MGYI/src/core_systems/continuous_time_ode.jl:79\n",
      "  CoupledODEs(::Any, ::Any, ::Any, !Matched::Function)\n",
      "   @ DynamicalSystemsBase ~/.julia/packages/DynamicalSystemsBase/9MGYI/src/deprecations.jl:13\n",
      "  CoupledODEs(::Any, ::Any)\n",
      "   @ DynamicalSystemsBase ~/.julia/packages/DynamicalSystemsBase/9MGYI/src/core_systems/continuous_time_ode.jl:79\n",
      "  ...\n",
      "\n",
      "\n",
      "Stacktrace:\n",
      " [1] top-level scope\n",
      "   @ ~/Dev/CSSim/notebooks/fixedpoints_troubleshooting.ipynb:20"
     ]
    }
   ],
   "source": []
  },
  {
   "cell_type": "code",
   "execution_count": 3,
   "metadata": {},
   "outputs": [
    {
     "ename": "OrdinaryDiffEq.TypeNotConstantError",
     "evalue": "Detected non-constant types in an out-of-place ODE solve, i.e. for\n`du = f(u,p,t)` we see `typeof(du) !== typeof(u/t)`. This is not\nsupported by OrdinaryDiffEq.jl's solvers. Please either make `f`\ntype-constant (i.e. typeof(du) === typeof(u/t)) or use the mutating\nin-place form `f(du,u,p,t)` (which is type-constant by construction).\n\nNote that one common case for this is when computing with GPUs, using\n`Float32` for `u0` and `Float64` for `tspan`. To correct this, ensure\nthat the element type of `tspan` matches the preferred compute type,\nfor example `ODEProblem(f,0f0,(0f0,1f0))` for `Float32`-based time.\n\ntypeof(u/t) = SVector{40, Float64}\ntypeof(du) = StaticArraysCore.MVector{40, Float64}\n",
     "output_type": "error",
     "traceback": [
      "Detected non-constant types in an out-of-place ODE solve, i.e. for\n",
      "`du = f(u,p,t)` we see `typeof(du) !== typeof(u/t)`. This is not\n",
      "supported by OrdinaryDiffEq.jl's solvers. Please either make `f`\n",
      "type-constant (i.e. typeof(du) === typeof(u/t)) or use the mutating\n",
      "in-place form `f(du,u,p,t)` (which is type-constant by construction).\n",
      "\n",
      "Note that one common case for this is when computing with GPUs, using\n",
      "`Float32` for `u0` and `Float64` for `tspan`. To correct this, ensure\n",
      "that the element type of `tspan` matches the preferred compute type,\n",
      "for example `ODEProblem(f,0f0,(0f0,1f0))` for `Float32`-based time.\n",
      "\n",
      "typeof(u/t) = SVector{40, Float64}\n",
      "typeof(du) = StaticArraysCore.MVector{40, Float64}\n",
      "\n",
      "\n",
      "Stacktrace:\n",
      "  [1] ode_determine_initdt(u0::SVector{40, Float64}, t::Float64, tdir::Float64, dtmax::Float64, abstol::Float64, reltol::Float64, internalnorm::typeof(DiffEqBase.ODE_DEFAULT_NORM), prob::SciMLBase.ODEProblem{SVector{40, Float64}, Tuple{Float64, Float64}, false, Float64, SciMLBase.ODEFunction{false, SciMLBase.AutoSpecialize, typeof(lorenz96), LinearAlgebra.UniformScaling{Bool}, Nothing, Nothing, Nothing, Nothing, Nothing, Nothing, Nothing, Nothing, Nothing, Nothing, Nothing, Nothing, Nothing, typeof(SciMLBase.DEFAULT_OBSERVED), Nothing, Nothing}, Base.Pairs{Symbol, Union{}, Tuple{}, NamedTuple{(), Tuple{}}}, SciMLBase.StandardODEProblem}, integrator::OrdinaryDiffEq.ODEIntegrator{OrdinaryDiffEq.Tsit5{typeof(OrdinaryDiffEq.trivial_limiter!), typeof(OrdinaryDiffEq.trivial_limiter!), Static.False}, false, SVector{40, Float64}, Nothing, Float64, Float64, Float64, Float64, Float64, Float64, Vector{SVector{40, Float64}}, SciMLBase.ODESolution{Float64, 2, Vector{SVector{40, Float64}}, Nothing, Nothing, Vector{Float64}, Vector{Vector{SVector{40, Float64}}}, SciMLBase.ODEProblem{SVector{40, Float64}, Tuple{Float64, Float64}, false, Float64, SciMLBase.ODEFunction{false, SciMLBase.AutoSpecialize, typeof(lorenz96), LinearAlgebra.UniformScaling{Bool}, Nothing, Nothing, Nothing, Nothing, Nothing, Nothing, Nothing, Nothing, Nothing, Nothing, Nothing, Nothing, Nothing, typeof(SciMLBase.DEFAULT_OBSERVED), Nothing, Nothing}, Base.Pairs{Symbol, Union{}, Tuple{}, NamedTuple{(), Tuple{}}}, SciMLBase.StandardODEProblem}, OrdinaryDiffEq.Tsit5{typeof(OrdinaryDiffEq.trivial_limiter!), typeof(OrdinaryDiffEq.trivial_limiter!), Static.False}, OrdinaryDiffEq.InterpolationData{SciMLBase.ODEFunction{false, SciMLBase.AutoSpecialize, typeof(lorenz96), LinearAlgebra.UniformScaling{Bool}, Nothing, Nothing, Nothing, Nothing, Nothing, Nothing, Nothing, Nothing, Nothing, Nothing, Nothing, Nothing, Nothing, typeof(SciMLBase.DEFAULT_OBSERVED), Nothing, Nothing}, Vector{SVector{40, Float64}}, Vector{Float64}, Vector{Vector{SVector{40, Float64}}}, OrdinaryDiffEq.Tsit5ConstantCache}, DiffEqBase.Stats, Nothing}, SciMLBase.ODEFunction{false, SciMLBase.AutoSpecialize, typeof(lorenz96), LinearAlgebra.UniformScaling{Bool}, Nothing, Nothing, Nothing, Nothing, Nothing, Nothing, Nothing, Nothing, Nothing, Nothing, Nothing, Nothing, Nothing, typeof(SciMLBase.DEFAULT_OBSERVED), Nothing, Nothing}, OrdinaryDiffEq.Tsit5ConstantCache, OrdinaryDiffEq.DEOptions{Float64, Float64, Float64, Float64, OrdinaryDiffEq.PIController{Rational{Int64}}, typeof(DiffEqBase.ODE_DEFAULT_NORM), typeof(LinearAlgebra.opnorm), Bool, SciMLBase.CallbackSet{Tuple{}, Tuple{}}, typeof(DiffEqBase.ODE_DEFAULT_ISOUTOFDOMAIN), typeof(DiffEqBase.ODE_DEFAULT_PROG_MESSAGE), typeof(DiffEqBase.ODE_DEFAULT_UNSTABLE_CHECK), DataStructures.BinaryHeap{Float64, DataStructures.FasterForward}, DataStructures.BinaryHeap{Float64, DataStructures.FasterForward}, Nothing, Nothing, Float64, Tuple{}, Tuple{}, Tuple{}}, SVector{40, Float64}, Float64, Nothing, OrdinaryDiffEq.DefaultInit})\n",
      "    @ OrdinaryDiffEq ~/.julia/packages/OrdinaryDiffEq/SPwv1/src/initdt.jl:253\n",
      "  [2] auto_dt_reset!\n",
      "    @ ~/.julia/packages/OrdinaryDiffEq/SPwv1/src/integrators/integrator_interface.jl:436 [inlined]\n",
      "  [3] handle_dt!(integrator::OrdinaryDiffEq.ODEIntegrator{OrdinaryDiffEq.Tsit5{typeof(OrdinaryDiffEq.trivial_limiter!), typeof(OrdinaryDiffEq.trivial_limiter!), Static.False}, false, SVector{40, Float64}, Nothing, Float64, Float64, Float64, Float64, Float64, Float64, Vector{SVector{40, Float64}}, SciMLBase.ODESolution{Float64, 2, Vector{SVector{40, Float64}}, Nothing, Nothing, Vector{Float64}, Vector{Vector{SVector{40, Float64}}}, SciMLBase.ODEProblem{SVector{40, Float64}, Tuple{Float64, Float64}, false, Float64, SciMLBase.ODEFunction{false, SciMLBase.AutoSpecialize, typeof(lorenz96), LinearAlgebra.UniformScaling{Bool}, Nothing, Nothing, Nothing, Nothing, Nothing, Nothing, Nothing, Nothing, Nothing, Nothing, Nothing, Nothing, Nothing, typeof(SciMLBase.DEFAULT_OBSERVED), Nothing, Nothing}, Base.Pairs{Symbol, Union{}, Tuple{}, NamedTuple{(), Tuple{}}}, SciMLBase.StandardODEProblem}, OrdinaryDiffEq.Tsit5{typeof(OrdinaryDiffEq.trivial_limiter!), typeof(OrdinaryDiffEq.trivial_limiter!), Static.False}, OrdinaryDiffEq.InterpolationData{SciMLBase.ODEFunction{false, SciMLBase.AutoSpecialize, typeof(lorenz96), LinearAlgebra.UniformScaling{Bool}, Nothing, Nothing, Nothing, Nothing, Nothing, Nothing, Nothing, Nothing, Nothing, Nothing, Nothing, Nothing, Nothing, typeof(SciMLBase.DEFAULT_OBSERVED), Nothing, Nothing}, Vector{SVector{40, Float64}}, Vector{Float64}, Vector{Vector{SVector{40, Float64}}}, OrdinaryDiffEq.Tsit5ConstantCache}, DiffEqBase.Stats, Nothing}, SciMLBase.ODEFunction{false, SciMLBase.AutoSpecialize, typeof(lorenz96), LinearAlgebra.UniformScaling{Bool}, Nothing, Nothing, Nothing, Nothing, Nothing, Nothing, Nothing, Nothing, Nothing, Nothing, Nothing, Nothing, Nothing, typeof(SciMLBase.DEFAULT_OBSERVED), Nothing, Nothing}, OrdinaryDiffEq.Tsit5ConstantCache, OrdinaryDiffEq.DEOptions{Float64, Float64, Float64, Float64, OrdinaryDiffEq.PIController{Rational{Int64}}, typeof(DiffEqBase.ODE_DEFAULT_NORM), typeof(LinearAlgebra.opnorm), Bool, SciMLBase.CallbackSet{Tuple{}, Tuple{}}, typeof(DiffEqBase.ODE_DEFAULT_ISOUTOFDOMAIN), typeof(DiffEqBase.ODE_DEFAULT_PROG_MESSAGE), typeof(DiffEqBase.ODE_DEFAULT_UNSTABLE_CHECK), DataStructures.BinaryHeap{Float64, DataStructures.FasterForward}, DataStructures.BinaryHeap{Float64, DataStructures.FasterForward}, Nothing, Nothing, Float64, Tuple{}, Tuple{}, Tuple{}}, SVector{40, Float64}, Float64, Nothing, OrdinaryDiffEq.DefaultInit})\n",
      "    @ OrdinaryDiffEq ~/.julia/packages/OrdinaryDiffEq/SPwv1/src/solve.jl:547\n",
      "  [4] __init(prob::SciMLBase.ODEProblem{SVector{40, Float64}, Tuple{Float64, Float64}, false, Float64, SciMLBase.ODEFunction{false, SciMLBase.AutoSpecialize, typeof(lorenz96), LinearAlgebra.UniformScaling{Bool}, Nothing, Nothing, Nothing, Nothing, Nothing, Nothing, Nothing, Nothing, Nothing, Nothing, Nothing, Nothing, Nothing, typeof(SciMLBase.DEFAULT_OBSERVED), Nothing, Nothing}, Base.Pairs{Symbol, Union{}, Tuple{}, NamedTuple{(), Tuple{}}}, SciMLBase.StandardODEProblem}, alg::OrdinaryDiffEq.Tsit5{typeof(OrdinaryDiffEq.trivial_limiter!), typeof(OrdinaryDiffEq.trivial_limiter!), Static.False}, timeseries_init::Tuple{}, ts_init::Tuple{}, ks_init::Tuple{}, recompile::Type{Val{true}}; saveat::Tuple{}, tstops::Tuple{}, d_discontinuities::Tuple{}, save_idxs::Nothing, save_everystep::Bool, save_on::Bool, save_start::Bool, save_end::Bool, callback::Nothing, dense::Bool, calck::Bool, dt::Float64, dtmin::Nothing, dtmax::Float64, force_dtmin::Bool, adaptive::Bool, gamma::Rational{Int64}, abstol::Float64, reltol::Float64, qmin::Rational{Int64}, qmax::Int64, qsteady_min::Int64, qsteady_max::Int64, beta1::Nothing, beta2::Nothing, qoldinit::Rational{Int64}, controller::Nothing, fullnormalize::Bool, failfactor::Int64, maxiters::Float64, internalnorm::typeof(DiffEqBase.ODE_DEFAULT_NORM), internalopnorm::typeof(LinearAlgebra.opnorm), isoutofdomain::typeof(DiffEqBase.ODE_DEFAULT_ISOUTOFDOMAIN), unstable_check::typeof(DiffEqBase.ODE_DEFAULT_UNSTABLE_CHECK), verbose::Bool, timeseries_errors::Bool, dense_errors::Bool, advance_to_tstop::Bool, stop_at_next_tstop::Bool, initialize_save::Bool, progress::Bool, progress_steps::Int64, progress_name::String, progress_message::typeof(DiffEqBase.ODE_DEFAULT_PROG_MESSAGE), userdata::Nothing, allow_extrapolation::Bool, initialize_integrator::Bool, alias_u0::Bool, alias_du0::Bool, initializealg::OrdinaryDiffEq.DefaultInit, kwargs::Base.Pairs{Symbol, Union{}, Tuple{}, NamedTuple{(), Tuple{}}})\n",
      "    @ OrdinaryDiffEq ~/.julia/packages/OrdinaryDiffEq/SPwv1/src/solve.jl:509\n",
      "  [5] __init (repeats 4 times)\n",
      "    @ ~/.julia/packages/OrdinaryDiffEq/SPwv1/src/solve.jl:10 [inlined]\n",
      "  [6] CoupledODEs(prob::SciMLBase.ODEProblem{SVector{40, Float64}, Tuple{Float64, Float64}, false, Float64, SciMLBase.ODEFunction{false, SciMLBase.AutoSpecialize, typeof(lorenz96), LinearAlgebra.UniformScaling{Bool}, Nothing, Nothing, Nothing, Nothing, Nothing, Nothing, Nothing, Nothing, Nothing, Nothing, Nothing, Nothing, Nothing, typeof(SciMLBase.DEFAULT_OBSERVED), Nothing, Nothing}, Base.Pairs{Symbol, Union{}, Tuple{}, NamedTuple{(), Tuple{}}}, SciMLBase.StandardODEProblem}, diffeq::NamedTuple{(:alg, :abstol, :reltol), Tuple{OrdinaryDiffEq.Tsit5{typeof(OrdinaryDiffEq.trivial_limiter!), typeof(OrdinaryDiffEq.trivial_limiter!), Static.False}, Float64, Float64}}; special_kwargs::Base.Pairs{Symbol, Union{}, Tuple{}, NamedTuple{(), Tuple{}}})\n",
      "    @ DynamicalSystemsBase ~/.julia/packages/DynamicalSystemsBase/9MGYI/src/core_systems/continuous_time_ode.jl:93\n",
      "  [7] CoupledODEs(prob::SciMLBase.ODEProblem{SVector{40, Float64}, Tuple{Float64, Float64}, false, Float64, SciMLBase.ODEFunction{false, SciMLBase.AutoSpecialize, typeof(lorenz96), LinearAlgebra.UniformScaling{Bool}, Nothing, Nothing, Nothing, Nothing, Nothing, Nothing, Nothing, Nothing, Nothing, Nothing, Nothing, Nothing, Nothing, typeof(SciMLBase.DEFAULT_OBSERVED), Nothing, Nothing}, Base.Pairs{Symbol, Union{}, Tuple{}, NamedTuple{(), Tuple{}}}, SciMLBase.StandardODEProblem}, diffeq::NamedTuple{(:alg, :abstol, :reltol), Tuple{OrdinaryDiffEq.Tsit5{typeof(OrdinaryDiffEq.trivial_limiter!), typeof(OrdinaryDiffEq.trivial_limiter!), Static.False}, Float64, Float64}})\n",
      "    @ DynamicalSystemsBase ~/.julia/packages/DynamicalSystemsBase/9MGYI/src/core_systems/continuous_time_ode.jl:88\n",
      "  [8] CoupledODEs(f::Function, u0::Vector{Float64}, p::Float64; t0::Int64, diffeq::NamedTuple{(:alg, :abstol, :reltol), Tuple{OrdinaryDiffEq.Tsit5{typeof(OrdinaryDiffEq.trivial_limiter!), typeof(OrdinaryDiffEq.trivial_limiter!), Static.False}, Float64, Float64}})\n",
      "    @ DynamicalSystemsBase ~/.julia/packages/DynamicalSystemsBase/9MGYI/src/core_systems/continuous_time_ode.jl:84\n",
      "  [9] CoupledODEs(f::Function, u0::Vector{Float64}, p::Float64)\n",
      "    @ DynamicalSystemsBase ~/.julia/packages/DynamicalSystemsBase/9MGYI/src/core_systems/continuous_time_ode.jl:79\n",
      " [10] top-level scope\n",
      "    @ ~/Dev/CSSim/notebooks/fixedpoints_troubleshooting.ipynb:22"
     ]
    }
   ],
   "source": [
    "using DynamicalSystems\n",
    "using ChaosTools\n",
    "\n",
    "# Define the Lorenz96 system\n",
    "function lorenz96(u, p, t)\n",
    "    N = length(u)\n",
    "    du = similar(u)\n",
    "    du[1] = (u[2] - u[N-1]) * u[N] - u[1] + p\n",
    "    du[2] = (u[3] - u[N]) * u[1] - u[2] + p\n",
    "    for i = 3:N-1\n",
    "        du[i] = (u[i+1] - u[i-2]) * u[i-1] - u[i] + p\n",
    "    end\n",
    "    du[N] = (u[1] - u[N-2]) * u[N-1] - u[N] + p\n",
    "    return du\n",
    "end\n",
    "\n",
    "# Set system parameters\n",
    "N = 40  # Number of variables\n",
    "p = 10.0  # Control parameter\n",
    "\n",
    "# Define the Lorenz96 system as a continuous dynamical system\n",
    "lorenz96_system = CoupledODEs(lorenz96, zeros(N), p)\n",
    "\n",
    "# Compute the fixed points\n",
    "fixed_points = ChaosTools.fixedpoints(lorenz96_system, [zeros(N)])\n",
    "\n",
    "# Print the computed fixed points\n",
    "for (i, fp) in enumerate(fixed_points)\n",
    "    println(\"Fixed point $i: $fp\")\n",
    "end"
   ]
  },
  {
   "cell_type": "code",
   "execution_count": null,
   "metadata": {},
   "outputs": [],
   "source": []
  }
 ],
 "metadata": {
  "kernelspec": {
   "display_name": "Julia 1.9.0",
   "language": "julia",
   "name": "julia-1.9"
  },
  "language_info": {
   "file_extension": ".jl",
   "mimetype": "application/julia",
   "name": "julia",
   "version": "1.9.0"
  },
  "orig_nbformat": 4
 },
 "nbformat": 4,
 "nbformat_minor": 2
}
