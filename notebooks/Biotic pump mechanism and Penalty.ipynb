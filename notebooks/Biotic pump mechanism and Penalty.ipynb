{
 "cells": [
  {
   "cell_type": "code",
   "execution_count": 9,
   "id": "1f44e5aa",
   "metadata": {},
   "outputs": [
    {
     "name": "stdout",
     "output_type": "stream",
     "text": [
      "Water quantities received by each forest:  [1.         0.04498673 0.03021602 0.02999453]\n",
      "Penalties for each forest:  [ 1.         -0.91002654 -0.93956796 -0.94001095]\n"
     ]
    }
   ],
   "source": [
    "import numpy as np\n",
    "\n",
    "\n",
    "n = 4  # number of forests\n",
    "S = 1  # surface area of each forest\n",
    "beta_1 = 0.5  # water evaporation rate per unit of young tree density\n",
    "beta_2 = 0.5  # water evaporation rate per unit of old tree density\n",
    "P_0 = 1  # base level of precipitation\n",
    "l = 10  # characteristic length scale\n",
    "alpha_0 = -1  # maximum penalty rate\n",
    "w_0 = 0.5  # water quantity threshold\n",
    "\n",
    "# densities of young and old trees in each forest\n",
    "x = [2, 2, 2, 2]\n",
    "y = [2, 2, 2, 2]\n",
    "\n",
    "# distances between consecutive forests\n",
    "d = [42, 42, 42, 42]\n",
    "\n",
    "def B(xi, yi):\n",
    "    return beta_1 * S * xi + beta_2 * S * yi\n",
    "\n",
    "def w_i(i, x, y, d):\n",
    "    \"\"\"i is the index of the forest\n",
    "        x is a vector (an array or a list) of the densities of young trees in each forest, with length n\n",
    "        y is a vector of the densities of old trees in each forest (length n)\n",
    "        d is a vector of the distances between consecutive forests (length n-1) \"\"\"\n",
    "    \n",
    "    if i == 0:\n",
    "        return P_0  # the first forest receives only the base level of precipitation\n",
    "    else:\n",
    "        sum_all = P_0 * np.exp(-np.sum(d[:i]) / l)\n",
    "        for j in range(i, i+1):\n",
    "            sum_all += B(x[j], y[j]) * np.exp(-np.sum(d[j-1:i]) / l)\n",
    "        return sum_all\n",
    "\n",
    "def alpha_i(i, x, y, d):\n",
    "    w = w_i(i, x, y, d)\n",
    "    return alpha_0 * (1 - w / w_0)\n",
    "\n",
    "\n",
    "\n",
    "# calculate water quantities and penalties for each forest\n",
    "w = np.array([w_i(i, x, y, d) for i in range(n)])\n",
    "alpha = np.array([alpha_i(i, x, y, d) for i in range(n)])\n",
    "\n",
    "\n",
    "print(\"Water quantities received by each forest: \", w)\n",
    "print(\"Penalties for each forest: \", alpha)\n"
   ]
  },
  {
   "cell_type": "code",
   "execution_count": null,
   "id": "9b70ef5f",
   "metadata": {},
   "outputs": [],
   "source": []
  }
 ],
 "metadata": {
  "kernelspec": {
   "display_name": "Python 3 (ipykernel)",
   "language": "python",
   "name": "python3"
  },
  "language_info": {
   "codemirror_mode": {
    "name": "ipython",
    "version": 3
   },
   "file_extension": ".py",
   "mimetype": "text/x-python",
   "name": "python",
   "nbconvert_exporter": "python",
   "pygments_lexer": "ipython3",
   "version": "3.10.4"
  }
 },
 "nbformat": 4,
 "nbformat_minor": 5
}
