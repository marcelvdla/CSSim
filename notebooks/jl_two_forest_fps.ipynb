{
 "cells": [
  {
   "cell_type": "code",
   "execution_count": 4,
   "metadata": {},
   "outputs": [],
   "source": [
    "# attempt to calculate two forest fps using hand defined jacobians \n",
    "using DynamicalSystems\n",
    "using ChaosTools\n",
    "using CSSim"
   ]
  },
  {
   "cell_type": "code",
   "execution_count": 5,
   "metadata": {},
   "outputs": [
    {
     "name": "stderr",
     "output_type": "stream",
     "text": [
      "┌ Warning: Using arrays or dicts to store parameters of different types can hurt performance.\n",
      "│ Consider using tuples instead.\n",
      "└ @ SciMLBase /home/hades/.julia/packages/SciMLBase/s9wrq/src/performance_warnings.jl:32\n",
      "┌ Warning: No fixed points found!\n",
      "└ @ ChaosTools /home/hades/.julia/packages/ChaosTools/VMXUY/src/stability/fixedpoints.jl:100\n"
     ]
    },
    {
     "data": {
      "text/plain": [
       "(4-dimensional StateSpaceSet{Float64} with 0 points, Vector{ComplexF64}[], Bool[])"
      ]
     },
     "metadata": {},
     "output_type": "display_data"
    }
   ],
   "source": [
    "n = 2\n",
    "u0 = 4*rand(n,2)\n",
    "params = Dict{Symbol,Any}(\n",
    "        :ρ  => 4.2, \n",
    "        :f  => 1.0,\n",
    "        :α₀ => -1.0, \n",
    "        :w₀ =>  1.0,\n",
    "        :a₁ => 1.0, \n",
    "        :h  => 2.0, \n",
    "        :a₂ => 0.0, \n",
    "        :d  => [42], \n",
    "        :l  => 600.0, \n",
    "        :P₀ => 1.0, \n",
    "        :β₁ => 0.0, \n",
    "        :β₂ => 1.0,\n",
    "        :n  => 2,\n",
    "        :ecosystems_to_deforest => [],\n",
    "    )\n",
    "ds = two_forest_system(u0, params)\n",
    "xᵢ = yᵢ = interval(0, 5)\n",
    "box = IntervalBox(repeat([xᵢ, yᵢ], 2)...)\n",
    "fps, eigs, stability = fixedpoints(ds, box, two_forest_jacob)"
   ]
  },
  {
   "cell_type": "code",
   "execution_count": 6,
   "metadata": {},
   "outputs": [],
   "source": []
  }
 ],
 "metadata": {
  "kernelspec": {
   "display_name": "Julia 1.9.0",
   "language": "julia",
   "name": "julia-1.9"
  },
  "language_info": {
   "file_extension": ".jl",
   "mimetype": "application/julia",
   "name": "julia",
   "version": "1.9.0"
  },
  "orig_nbformat": 4
 },
 "nbformat": 4,
 "nbformat_minor": 2
}
