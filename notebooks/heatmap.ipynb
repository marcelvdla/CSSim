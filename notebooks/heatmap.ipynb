{
 "cells": [
  {
   "cell_type": "code",
   "execution_count": 1,
   "metadata": {},
   "outputs": [],
   "source": [
    "from src.n_forest import *\n",
    "%matplotlib widget"
   ]
  },
  {
   "attachments": {},
   "cell_type": "markdown",
   "metadata": {},
   "source": [
    "Parameters"
   ]
  },
  {
   "cell_type": "code",
   "execution_count": 2,
   "metadata": {},
   "outputs": [],
   "source": [
    "rho = 4.2     # fertility\n",
    "f = 1         # aging_rate\n",
    "a_1 = 1       # biotic_pump_young\n",
    "a_2 = 0       # biotic_pump_old\n",
    "h = 2         # mortality_old\n",
    "\n",
    "# Parameter ranges for distance and beta_2\n",
    "dist = range(10, 910, 100)\n",
    "beta_2 = np.arange(0.01, 0.5, 0.05)\n",
    "\n",
    "P_0 = 1.05\n",
    "w_0 = 1\n",
    "alpha_0 = -1.0\n",
    "beta_1 = 0"
   ]
  },
  {
   "attachments": {},
   "cell_type": "markdown",
   "metadata": {},
   "source": [
    "Data for the heatmap of number of killed forests against distance and $\\beta_2$\n",
    "\n",
    "Runtime +- 5min"
   ]
  },
  {
   "cell_type": "code",
   "execution_count": 3,
   "metadata": {},
   "outputs": [],
   "source": [
    "grid = np.zeros((len(dist),len(beta_2)))\n",
    "\n",
    "i = 0\n",
    "for d in dist:\n",
    "    j = 0\n",
    "    for b2 in beta_2:\n",
    "        args = (rho,f,a_1,h,a_2,d,b2,P_0,w_0,alpha_0,beta_1)\n",
    "        # Random initial densities\n",
    "        x0s = np.random.uniform(0,3,10)\n",
    "        y0s = np.random.uniform(0,3,10)\n",
    "\n",
    "        # Get number of killed forests\n",
    "        x, y, defor = system_n_forests(x0s, y0s, args, perturbed=True)\n",
    "        grid[i,j] = len([eco for eco in x if np.isclose(eco[-1], 0.0)])\n",
    "        j+=1\n",
    "    i+=1\n",
    "\n",
    "# Create heatmap\n",
    "fig, ax = plt.subplots()\n",
    "im = ax.imshow(grid, origin='lower', cmap='YlGn_r')\n",
    "ax.set_xlabel(r'$\\beta_2$ (water evaporation coefficient for old trees)')\n",
    "ax.set_xticks(range(len(beta_2)))\n",
    "ax.set_xticklabels([round(b2,2) for b2 in beta_2], rotation=-75)\n",
    "ax.set_ylabel('Distance between ecosystems')\n",
    "ax.set_yticks(range(len(dist)))\n",
    "ax.set_yticklabels(dist)\n",
    "fig.colorbar(im)\n",
    "plt.show()"
   ]
  },
  {
   "cell_type": "code",
   "execution_count": null,
   "metadata": {},
   "outputs": [],
   "source": []
  }
 ],
 "metadata": {
  "kernelspec": {
   "display_name": "Python 3",
   "language": "python",
   "name": "python3"
  },
  "language_info": {
   "codemirror_mode": {
    "name": "ipython",
    "version": 3
   },
   "file_extension": ".py",
   "mimetype": "text/x-python",
   "name": "python",
   "nbconvert_exporter": "python",
   "pygments_lexer": "ipython3",
   "version": "3.10.6"
  },
  "orig_nbformat": 4
 },
 "nbformat": 4,
 "nbformat_minor": 2
}
