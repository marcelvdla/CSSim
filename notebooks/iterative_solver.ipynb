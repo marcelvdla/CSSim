{
 "cells": [
  {
   "cell_type": "code",
   "execution_count": 3,
   "id": "8c925221",
   "metadata": {},
   "outputs": [],
   "source": [
    "# This is a ChatGPT solution for iterative solving \n",
    "# and needs to be trouble shot\n",
    "from scipy.integrate import solve_ivp\n",
    "import numpy as np"
   ]
  },
  {
   "cell_type": "code",
   "execution_count": null,
   "id": "803805ab",
   "metadata": {},
   "outputs": [],
   "source": [
    "# Iterate over the time points and update the solution\n",
    "for i, t in enumerate(t_eval):\n",
    "    current_solution = solution.y[:, i]\n",
    "    # Perform any operations or calculations you need to do at each step\n",
    "    # ...\n",
    "    # Update the solution for the next iteration\n",
    "    solution = solve_ivp(my_differential_equation, [t, T], current_solution, t_eval=t_eval[i+1:])\n",
    "\n",
    "    # Continue with the next iteration"
   ]
  },
  {
   "cell_type": "code",
   "execution_count": null,
   "id": "5ee6dc85",
   "metadata": {},
   "outputs": [],
   "source": [
    "def forward_euler(model, T, y0, dt = 0.01):\n",
    "    solutions = [y0]\n",
    "    y = y0\n",
    "    for t in np.arange(0, T, dt):\n",
    "        dydt = model(t=t, y=y)\n",
    "        y += dydt * dt\n",
    "        solutions.append(y)\n",
    "    return solutions\n",
    "\n",
    "def model(t, y):\n",
    "    return 3 * y\n",
    "\n",
    "y0 = 0.2\n",
    "T = 10\n",
    "baseline = solve_ivp(model, [0, T], [y0], t_eval=np.arange(0, T, 0.01))\n",
    "baseline = list(baseline.y[0, :].astype(float))\n",
    "euler = forward_euler(model, T, y0)\n",
    "\n",
    "print(len(baseline))\n",
    "print(len(euler))\n",
    "display(baseline[-10:])\n",
    "display(euler[-10:])"
   ]
  },
  {
   "cell_type": "code",
   "execution_count": null,
   "id": "17d2a19b",
   "metadata": {},
   "outputs": [],
   "source": [
    "# Chat GPT provided integrator\n",
    "from scipy.integrate import solve_ivp\n",
    "\n",
    "# Define your differential equation function\n",
    "def my_differential_equation(t, y):\n",
    "    # Define your differential equation here\n",
    "    dydt = -3 * y\n",
    "\n",
    "    return dydt\n",
    "\n",
    "# Define the initial conditions\n",
    "t0 = 0.0\n",
    "y0 = [0.2]\n",
    "\n",
    "# Define the time points where you want to evaluate the solution\n",
    "T = 10\n",
    "t_eval = np.linspace(t0, T, num=T+1)\n",
    "\n",
    "# Solve the differential equation\n",
    "solution = solve_ivp(my_differential_equation, [t0, T], y0, t_eval=t_eval)\n",
    "\n",
    "# Iterate over the time points and update the solution\n",
    "for i, t in enumerate(t_eval):\n",
    "    current_solution = solution.y[:, i]\n",
    "    # Perform any operations or calculations you need to do at each step\n",
    "    # ...\n",
    "    # Update the solution for the next iteration\n",
    "    solution = solve_ivp(my_differential_equation, [t, T], current_solution, t_eval=t_eval[i+1:])\n",
    "\n",
    "    # Continue with the next iteration\n",
    "    ...\n"
   ]
  },
  {
   "cell_type": "code",
   "execution_count": null,
   "id": "e8a5af85",
   "metadata": {},
   "outputs": [],
   "source": []
  }
 ],
 "metadata": {
  "kernelspec": {
   "display_name": "Python 3 (ipykernel)",
   "language": "python",
   "name": "python3"
  },
  "language_info": {
   "codemirror_mode": {
    "name": "ipython",
    "version": 3
   },
   "file_extension": ".py",
   "mimetype": "text/x-python",
   "name": "python",
   "nbconvert_exporter": "python",
   "pygments_lexer": "ipython3",
   "version": "3.11.3"
  }
 },
 "nbformat": 4,
 "nbformat_minor": 5
}
