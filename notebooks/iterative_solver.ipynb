{
 "cells": [
  {
   "cell_type": "code",
   "execution_count": 57,
   "id": "8c925221",
   "metadata": {},
   "outputs": [],
   "source": [
    "# This is a ChatGPT solution for iterative solving \n",
    "# and needs to be trouble shot\n",
    "# https://stackoverflow.com/questions/12926393/using-adaptive-step-sizes-with-scipy-integrate-ode\n",
    "from scipy.integrate import solve_ivp\n",
    "import numpy as np\n",
    "import matplotlib.pyplot as plt"
   ]
  },
  {
   "cell_type": "code",
   "execution_count": null,
   "id": "5ee6dc85",
   "metadata": {},
   "outputs": [],
   "source": [
    "def forward_euler(model, T, y0, dt = 0.01):\n",
    "    mysolution = [y0]\n",
    "    y = y0\n",
    "    for t in np.arange(0, T, dt):\n",
    "        dydt = model(t=t, y=y)\n",
    "        y += dydt * dt\n",
    "        mysolution.append(y)\n",
    "    return mysolution\n",
    "\n",
    "def model(t, y):\n",
    "    return 3 * y\n",
    "\n",
    "y0 = 0.2\n",
    "T = 10\n",
    "baseline = solve_ivp(model, [0, T], [y0], t_eval=np.arange(0, T, 0.01))\n",
    "baseline = list(baseline.y[0, :].astype(float))\n",
    "euler = forward_euler(model, T, y0)\n",
    "\n",
    "print(len(baseline))\n",
    "print(len(euler))\n",
    "display(baseline[-10:])\n",
    "display(euler[-10:])"
   ]
  },
  {
   "cell_type": "code",
   "execution_count": 68,
   "id": "17d2a19b",
   "metadata": {},
   "outputs": [],
   "source": [
    "# Chat GPT provided integrator\n",
    "from scipy.integrate import solve_ivp\n",
    "import numpy as np\n",
    "\n",
    "# Define your differential equation function\n",
    "def my_differential_equation(t, y, r = 2):\n",
    "    # Define your differential equation here\n",
    "    #dydt = -3 * y#[0]\n",
    "    dydt = r*y*(1-y)\n",
    "#    dxdt = -3 * y[1]\n",
    "    return dydt# dxdt\n",
    "\n",
    "# Define the initial conditions\n",
    "t0 = 0.0\n",
    "y0 = [0.2]#, 0.1]\n",
    "\n",
    "# Define the time points where you want to evaluate the solution\n",
    "T = 10\n",
    "t_eval = range(T+1)\n",
    "\n",
    "# Solve the differential equation\n",
    "solution = solve_ivp(my_differential_equation, [t0, T], y0)"
   ]
  },
  {
   "cell_type": "code",
   "execution_count": 69,
   "id": "cbe39e74",
   "metadata": {},
   "outputs": [
    {
     "name": "stdout",
     "output_type": "stream",
     "text": [
      "[[0.2        0.2296189  0.55959642 0.8816181  0.96314231 0.98917666\n",
      "  0.99792104 0.99964294 0.99986144 0.99965986 0.9992625 ]]\n"
     ]
    }
   ],
   "source": [
    "print(solution.y)"
   ]
  },
  {
   "cell_type": "code",
   "execution_count": 60,
   "id": "e646cdc0",
   "metadata": {},
   "outputs": [
    {
     "name": "stdout",
     "output_type": "stream",
     "text": [
      "[[2.00000000e-01]\n",
      " [9.97406439e-03]\n",
      " [4.97603390e-04]\n",
      " [2.49271915e-05]\n",
      " [1.48139218e-06]\n",
      " [1.39413446e-07]\n",
      " [8.90077399e-09]\n",
      " [5.68264970e-10]\n",
      " [3.62805613e-11]\n",
      " [2.31631228e-12]\n",
      " [5.16187579e-13]\n",
      " [1.15031820e-13]]\n",
      "[[2.00000000e-01 1.64812135e-01 6.53499885e-02 2.71996516e-02\n",
      "  1.12688482e-02 4.65288404e-03 1.90500096e-03 7.65139050e-04\n",
      "  2.94996662e-04 1.05131176e-04 3.27985891e-05 8.37546422e-06\n",
      "  1.64973924e-06 2.94210940e-07 1.41378514e-07 4.24444068e-07\n",
      "  5.17922957e-07 6.31989488e-07 1.27443191e-07]]\n"
     ]
    }
   ],
   "source": [
    "mysolution = []\n",
    "solution_at_t = y0\n",
    "mysolution.append(solution_at_t)\n",
    "for t in t_eval:\n",
    "    solution_at_t = solve_ivp(\n",
    "        my_differential_equation, \n",
    "        # might do say 5 small step sizes instead, but this occurs\n",
    "        # per iteration of the loop, therefore more steps are taken \n",
    "        # in this loop than in the default ODE, therefore higher accuracy\n",
    "        # from this manual looping\n",
    "        # TODO: verify with something like logistic map\n",
    "        [t, t+1],\n",
    "        mysolution[t])\n",
    "    solution_at_t = solution_at_t.y[:, -1]\n",
    "    mysolution.append(solution_at_t)\n",
    "\n",
    "mysolution = np.vstack(mysolution)\n",
    "print(mysolution)\n",
    "print(solution.y)"
   ]
  },
  {
   "cell_type": "code",
   "execution_count": 70,
   "id": "a3d810fd",
   "metadata": {},
   "outputs": [
    {
     "data": {
      "text/plain": [
       "<matplotlib.legend.Legend at 0x7fb46d8813d0>"
      ]
     },
     "execution_count": 70,
     "metadata": {},
     "output_type": "execute_result"
    },
    {
     "data": {
      "image/png": "[encoded data removed]",
      "text/plain": [
       "<Figure size 640x480 with 1 Axes>"
      ]
     },
     "metadata": {},
     "output_type": "display_data"
    }
   ],
   "source": [
    "plt.scatter(range(len(mysolution)), mysolution.flatten(), label=\"iterative_solve_ivp\")\n",
    "plt.scatter(range(len(solution.y.flatten())), solution.y.flatten(), label=\"solve_ivp\")\n",
    "plt.legend()"
   ]
  },
  {
   "cell_type": "code",
   "execution_count": 23,
   "id": "04f4fb33",
   "metadata": {},
   "outputs": [
    {
     "name": "stdout",
     "output_type": "stream",
     "text": [
      "(1, 11)\n",
      "[[ 2.00000000e-01  9.97279878e-03  4.96976155e-04  2.48429092e-05\n",
      "   1.32975126e-06 -1.23717489e-08 -2.71390748e-07  3.29177056e-07\n",
      "   5.59898231e-07  4.43189866e-07  1.27443191e-07]]\n"
     ]
    }
   ],
   "source": [
    "print(solution.y.shape)\n",
    "print(solution.y)"
   ]
  },
  {
   "cell_type": "code",
   "execution_count": null,
   "id": "e8a5af85",
   "metadata": {},
   "outputs": [],
   "source": [
    "\n",
    "# Iterate over the time points and update the solution\n",
    "for i, t in enumerate(t_eval):\n",
    "    current_solution = solution.y[:, i]\n",
    "    # Perform any operations or calculations you need to do at each step\n",
    "    # ...\n",
    "    # Update the solution for the next iteration\n",
    "    solution = solve_ivp(my_differential_equation, [t, T], current_solution, t_eval=t_eval[i+1:])\n",
    "\n",
    "    # Continue with the next iteration\n",
    "    ...\n"
   ]
  }
 ],
 "metadata": {
  "kernelspec": {
   "display_name": "Python 3 (ipykernel)",
   "language": "python",
   "name": "python3"
  },
  "language_info": {
   "codemirror_mode": {
    "name": "ipython",
    "version": 3
   },
   "file_extension": ".py",
   "mimetype": "text/x-python",
   "name": "python",
   "nbconvert_exporter": "python",
   "pygments_lexer": "ipython3",
   "version": "3.11.3"
  }
 },
 "nbformat": 4,
 "nbformat_minor": 5
}
