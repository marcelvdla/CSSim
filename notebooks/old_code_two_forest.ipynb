{
 "cells": [
  {
   "cell_type": "code",
   "execution_count": null,
   "id": "c8ba94d8",
   "metadata": {},
   "outputs": [],
   "source": [
    "def deriv_forest(x, y, penalty_rate, args):\n",
    "    \"\"\"\n",
    "    Calculate derivatives of x and y over time as per the Antonovsky & Korzukhin rule.\n",
    "    \n",
    "    INPUT:\n",
    "    x            = value for x; density of young trees in ecosystem, typically between 0 and 4\n",
    "    y            = value for y; density of old trees in ecosystem, typically between 0 and 4\n",
    "    penalty_rate = penalty rate calculated by penalty function\n",
    "    args         = tuple of 6 arguments\n",
    "\n",
    "    Returns derivatives of x and y.\n",
    "    \"\"\"\n",
    "    # Unpack arguments rho, gamma (not used), f, h, a1 and a2\n",
    "    fertility, mortality_young, aging_rate, biotic_pump_young, mortality_old, biotic_pump_old, dist, beta_2, P_0 = args\n",
    "    \n",
    "    # Calculate derivatives\n",
    "    dx = fertility * y - ((y - 1)**2 + 1) * x - aging_rate * x + biotic_pump_young * penalty_rate * x\n",
    "    dy = aging_rate * x - mortality_old * y + biotic_pump_old * penalty_rate * y\n",
    "    \n",
    "    return dx, dy"
   ]
  },
  {
   "cell_type": "code",
   "execution_count": null,
   "id": "a5307d54",
   "metadata": {},
   "outputs": [],
   "source": [
    "# def system_two_forests(x_1, y_1, x_2, y_2, args, timesteps = 100):\n",
    "#     \"\"\"\n",
    "#     x_1 = initial value for the young trees in the first ecosystem \n",
    "#     y_1 = initial value for the old trees in the first ecosystem\n",
    "#     x_1 = initial value for the young trees in the second ecosystem \n",
    "#     y_1 = initial value for the old trees in the second ecosystem\n",
    "    \n",
    "#     \"\"\"\n",
    "    \n",
    "#     dt = 0.01 # possible to edit\n",
    "#     young_forest_1 = []\n",
    "#     old_forest_1 = []\n",
    "#     young_forest_2 = []\n",
    "#     old_forest_2 = []\n",
    "#     # function call of penalty function\n",
    "#     penalty_rate_1 = -0.5 # Will need penalty function call \n",
    "#     penalty_rate_2 = -0.6 # Will need penalty function call\n",
    "    \n",
    "#     for i in range(timesteps):\n",
    "#         # penalty rate function call\n",
    "#         young_forest_1.append(x_1)\n",
    "#         old_forest_1.append(y_1)\n",
    "#         young_forest_2.append(x_2)\n",
    "#         old_forest_2.append(y_2)\n",
    "#         dx_1, dy_1 = deriv_forest(x_1, y_1, penalty_rate_1, args)\n",
    "#         dx_2, dy_2 = deriv_forest(x_2, y_2, penalty_rate_2, args)\n",
    "\n",
    "#         # Update values using forward Euler\n",
    "#         x_1 += dx_1 * dt\n",
    "#         y_1 += dy_1 * dt\n",
    "#         x_2 += dx_2 * dt\n",
    "#         y_2 += dy_2 * dt\n",
    "    \n",
    "#     return young_forest_1, old_forest_1, young_forest_2, old_forest_2\n",
    "\n"
   ]
  },
  {
   "cell_type": "code",
   "execution_count": null,
   "id": "955b2d0a",
   "metadata": {},
   "outputs": [],
   "source": [
    "# fertility = 4.2\n",
    "# mortality_young = 0.01 # should be the weird quadratic function but i think making a constant based on data is better\n",
    "# # for now implemented as \n",
    "# aging_rate = 1\n",
    "# biotic_pump_young = 0.3\n",
    "# mortality_old = 2\n",
    "# biotic_pump_old = 0.1\n",
    "\n",
    "# arguments = (fertility, mortality_young, aging_rate, biotic_pump_young, mortality_old, biotic_pump_old)\n",
    "# time = 100\n",
    "# young_1, old_1, young_2, old_2 = system_two_forests(1, 2, 3, 4, arguments, time)\n",
    "# plt.plot(range(100), young_1, label =\"Young trees in first ecosystem\")\n",
    "# plt.plot(range(100), old_1, label = \"Old trees in the first ecosystem\")\n",
    "# plt.plot(range(100), young_2, label = \"Young trees in the second ecosystem\")\n",
    "# plt.plot(range(100), old_2, label = \"Old trees in the second ecosystem\")\n",
    "# plt.legend()\n",
    "# plt.show()"
   ]
  }
 ],
 "metadata": {
  "kernelspec": {
   "display_name": "Python 3 (ipykernel)",
   "language": "python",
   "name": "python3"
  },
  "language_info": {
   "codemirror_mode": {
    "name": "ipython",
    "version": 3
   },
   "file_extension": ".py",
   "mimetype": "text/x-python",
   "name": "python",
   "nbconvert_exporter": "python",
   "pygments_lexer": "ipython3",
   "version": "3.11.3"
  }
 },
 "nbformat": 4,
 "nbformat_minor": 5
}
