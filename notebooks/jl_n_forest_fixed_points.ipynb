{
 "cells": [
  {
   "cell_type": "code",
   "execution_count": 1,
   "id": "25f7e524",
   "metadata": {},
   "outputs": [
    {
     "data": {
      "text/plain": [
       "antonovsky_sym_jacob"
      ]
     },
     "execution_count": 1,
     "metadata": {},
     "output_type": "execute_result"
    }
   ],
   "source": [
    "# Stability analysis of n-forest system\n",
    "# requires rule for jacobian for fixed-point analysis\n",
    "using Random\n",
    "using PyPlot\n",
    "using ChaosTools\n",
    "using DrWatson\n",
    "# @quickactivate :CSSim\n",
    "include(joinpath(srcdir(), \"n_forest.jl\"))"
   ]
  },
  {
   "cell_type": "code",
   "execution_count": 4,
   "id": "899b7907",
   "metadata": {},
   "outputs": [
    {
     "data": {
      "text/latex": [
       "$$ \\begin{equation}\n",
       "\\left[\n",
       "\\begin{array}{cccc}\n",
       " - c - f + a_1 \\alpha_1 - \\left(  - b + y_1 \\right)^{2} a & \\rho - 2 a \\left(  - b + y_1 \\right) x_1 & 0 & 0 \\\\\n",
       "f &  - h + a_2 \\alpha_1 & 0 & 0 \\\\\n",
       "0 & 0 &  - c - f + a_1 \\alpha_2 - \\left(  - b + y_2 \\right)^{2} a & \\rho - 2 a \\left(  - b + y_2 \\right) x_2 \\\\\n",
       "0 & 0 & f &  - h + a_2 \\alpha_2 \\\\\n",
       "\\end{array}\n",
       "\\right]\n",
       "\\end{equation}\n",
       " $$"
      ],
      "text/plain": [
       "4×4 Matrix{Num}:\n",
       " a₁*α[1] - c - f - a*((y[1] - b)^2)  …                       0\n",
       "               f                                             0\n",
       "              0                         ρ - 2a*(y[2] - b)*x[2]\n",
       "              0                                    a₂*α[2] - h"
      ]
     },
     "execution_count": 4,
     "metadata": {},
     "output_type": "execute_result"
    }
   ],
   "source": [
    "# Inspect jacobian for two forest system\n",
    "# ... note that authors assume a₂ = 0\n",
    "n_forest_sym_jacob(2)"
   ]
  },
  {
   "cell_type": "code",
   "execution_count": 3,
   "id": "4bf8ce94",
   "metadata": {},
   "outputs": [
    {
     "name": "stdout",
     "output_type": "stream",
     "text": [
      "search: \u001b[0m\u001b[1mn\u001b[22m\u001b[0m\u001b[1m_\u001b[22m\u001b[0m\u001b[1mf\u001b[22m\u001b[0m\u001b[1mo\u001b[22m\u001b[0m\u001b[1mr\u001b[22m\u001b[0m\u001b[1me\u001b[22m\u001b[0m\u001b[1ms\u001b[22m\u001b[0m\u001b[1mt\u001b[22m\u001b[0m\u001b[1m_\u001b[22m\u001b[0m\u001b[1ms\u001b[22m\u001b[0m\u001b[1my\u001b[22m\u001b[0m\u001b[1mm\u001b[22m\u001b[0m\u001b[1m_\u001b[22m\u001b[0m\u001b[1mj\u001b[22m\u001b[0m\u001b[1ma\u001b[22m\u001b[0m\u001b[1mc\u001b[22m\u001b[0m\u001b[1mo\u001b[22m\u001b[0m\u001b[1mb\u001b[22m \u001b[0m\u001b[1mn\u001b[22m\u001b[0m\u001b[1m_\u001b[22m\u001b[0m\u001b[1mf\u001b[22m\u001b[0m\u001b[1mo\u001b[22m\u001b[0m\u001b[1mr\u001b[22m\u001b[0m\u001b[1me\u001b[22m\u001b[0m\u001b[1ms\u001b[22m\u001b[0m\u001b[1mt\u001b[22m\u001b[0m\u001b[1m_\u001b[22m\u001b[0m\u001b[1ms\u001b[22m\u001b[0m\u001b[1my\u001b[22m\u001b[0m\u001b[1mm\u001b[22m\u001b[0m\u001b[1m_\u001b[22mrule\n",
      "\n"
     ]
    },
    {
     "data": {
      "text/latex": [
       "\\begin{verbatim}\n",
       "n_forest_sym_jacob(n::Int)\n",
       "\\end{verbatim}\n",
       "Return symbolic jacobian for \\texttt{n}-forest complex network without perturbations.\n",
       "\n",
       "Symbolic jacobian will be of shape \\texttt{2*n × 2*n}.\n",
       "\n"
      ],
      "text/markdown": [
       "```\n",
       "n_forest_sym_jacob(n::Int)\n",
       "```\n",
       "\n",
       "Return symbolic jacobian for `n`-forest complex network without perturbations.\n",
       "\n",
       "Symbolic jacobian will be of shape `2*n × 2*n`.\n"
      ],
      "text/plain": [
       "\u001b[36m  n_forest_sym_jacob(n::Int)\u001b[39m\n",
       "\n",
       "  Return symbolic jacobian for \u001b[36mn\u001b[39m-forest complex network without perturbations.\n",
       "\n",
       "  Symbolic jacobian will be of shape \u001b[36m2*n × 2*n\u001b[39m."
      ]
     },
     "execution_count": 3,
     "metadata": {},
     "output_type": "execute_result"
    }
   ],
   "source": [
    "?n_forest_sym_jacob"
   ]
  },
  {
   "cell_type": "code",
   "execution_count": null,
   "id": "4f6f3b8a",
   "metadata": {},
   "outputs": [],
   "source": []
  }
 ],
 "metadata": {
  "kernelspec": {
   "display_name": "Julia 1.9.0",
   "language": "julia",
   "name": "julia-1.9"
  },
  "language_info": {
   "file_extension": ".jl",
   "mimetype": "application/julia",
   "name": "julia",
   "version": "1.9.0"
  }
 },
 "nbformat": 4,
 "nbformat_minor": 5
}
