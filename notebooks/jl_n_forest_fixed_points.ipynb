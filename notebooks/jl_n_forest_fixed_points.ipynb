{
 "cells": [
  {
   "cell_type": "code",
   "execution_count": 21,
   "id": "25f7e524",
   "metadata": {},
   "outputs": [
    {
     "data": {
      "text/plain": [
       "antonovsky_sym_jacob"
      ]
     },
     "execution_count": 21,
     "metadata": {},
     "output_type": "execute_result"
    }
   ],
   "source": [
    "# Stability analysis of n-forest system\n",
    "# requires rule for jacobian for fixed-point analysis\n",
    "using Random\n",
    "using PyPlot\n",
    "using ChaosTools\n",
    "using DrWatson\n",
    "using UnPack\n",
    "# @quickactivate :CSSim\n",
    "include(joinpath(srcdir(), \"n_forest.jl\"))"
   ]
  },
  {
   "cell_type": "code",
   "execution_count": 23,
   "id": "14ed95b4",
   "metadata": {},
   "outputs": [
    {
     "name": "stdout",
     "output_type": "stream",
     "text": [
      "search: \u001b[0m\u001b[1mT\u001b[22m\u001b[0m\u001b[1ma\u001b[22m\u001b[0m\u001b[1mn\u001b[22m\u001b[0m\u001b[1mg\u001b[22m\u001b[0m\u001b[1me\u001b[22m\u001b[0m\u001b[1mn\u001b[22m\u001b[0m\u001b[1mt\u001b[22m\u001b[0m\u001b[1mD\u001b[22m\u001b[0m\u001b[1my\u001b[22m\u001b[0m\u001b[1mn\u001b[22m\u001b[0m\u001b[1ma\u001b[22m\u001b[0m\u001b[1mm\u001b[22m\u001b[0m\u001b[1mi\u001b[22m\u001b[0m\u001b[1mc\u001b[22m\u001b[0m\u001b[1ma\u001b[22m\u001b[0m\u001b[1ml\u001b[22m\u001b[0m\u001b[1mS\u001b[22m\u001b[0m\u001b[1my\u001b[22m\u001b[0m\u001b[1ms\u001b[22m\u001b[0m\u001b[1mt\u001b[22m\u001b[0m\u001b[1me\u001b[22m\u001b[0m\u001b[1mm\u001b[22m\n",
      "\n"
     ]
    },
    {
     "data": {
      "text/latex": [
       "\\begin{verbatim}\n",
       "TangentDynamicalSystem <: DynamicalSystem\n",
       "TangentDynamicalSystem(ds::CoreDynamicalSystem; kwargs...)\n",
       "\\end{verbatim}\n",
       "A dynamical system that bundles the evolution of \\texttt{ds} (which must be an \\href{@ref}{\\texttt{CoreDynamicalSystem}}) and \\texttt{k} deviation vectors that are evolved according to the \\emph{dynamics in the tangent space} (also called linearized dynamics or the tangent dynamics).\n",
       "\n",
       "The state of \\texttt{ds} \\textbf{must} be an \\texttt{AbstractVector} for \\texttt{TangentDynamicalSystem}.\n",
       "\n",
       "\\texttt{TangentDynamicalSystem} follows the \\href{@ref}{\\texttt{DynamicalSystem}} interface with the following adjustments:\n",
       "\n",
       "\\begin{itemize}\n",
       "\\item \\texttt{reinit!} takes an additional keyword \\texttt{Q0} (with same default as below)\n",
       "\n",
       "\n",
       "\\item The additional functions \\href{@ref}{\\texttt{current\\_deviations}} and \\href{@ref}{\\texttt{set\\_deviations!}} are provided for the deviation vectors.\n",
       "\n",
       "\\end{itemize}\n",
       "\\subsection{Keyword arguments}\n",
       "\\begin{itemize}\n",
       "\\item \\texttt{k} or \\texttt{Q0}: \\texttt{Q0} represents the initial deviation vectors (each column = 1 vector). If \\texttt{k::Int} is given, a matrix \\texttt{Q0} is created with the first \\texttt{k} columns of the identity matrix. Otherwise \\texttt{Q0} can be given directly as a matrix. It must hold that \\texttt{size(Q, 1) == dimension(ds)}. You can use \\href{@ref}{\\texttt{orthonormal}} for random orthonormal vectors. By default \\texttt{k = dimension(ds)} is used.\n",
       "\n",
       "\n",
       "\\item \\texttt{u0 = current\\_state(ds)}: Starting state.\n",
       "\n",
       "\n",
       "\\item \\texttt{J} and \\texttt{J0}: See section \"Jacobian\" below.\n",
       "\n",
       "\\end{itemize}\n",
       "\\subsection{Description}\n",
       "Let $u$ be the state of \\texttt{ds}, and $y$ a deviation (or perturbation) vector. These two are evolved in parallel according to\n",
       "\n",
       "$$\\begin{array}{rcl}\n",
       "\\frac{d\\vec{x}}{dt} &=& f(\\vec{x}) \\\\\n",
       "\\frac{dY}{dt} &=& J_f(\\vec{x}) \\cdot Y\n",
       "\\end{array}\n",
       "\\quad \\mathrm{or}\\quad\n",
       "\\begin{array}{rcl}\n",
       "\\vec{x}_{n+1} &=& f(\\vec{x}_n) \\\\\n",
       "Y_{n+1} &=& J_f(\\vec{x}_n) \\cdot Y_n.\n",
       "\\end{array}$$\n",
       "for continuous or discrete time respectively. Here $f$ is the \\href{@ref}{\\texttt{dynamic\\_rule}}\\texttt{(ds)} and $J_f$ is the Jacobian of $f$.\n",
       "\n",
       "\\subsection{Jacobian}\n",
       "The keyword \\texttt{J} provides the Jacobian function. It must be a Julia function in the same form as \\texttt{f}, the \\href{@ref}{\\texttt{dynamic\\_rule}}. Specifically, \\texttt{J(u, p, n) -> M::SMatrix} for the out-of-place version or \\texttt{J(M, u, p, n)} for the in-place version acting in-place on \\texttt{M}. in both cases \\texttt{M} is a matrix whose columns are the deviation vectors.\n",
       "\n",
       "By default \\texttt{J = nothing}.  In this case \\texttt{J} is constructed automatically using the module \\href{https://github.com/JuliaDiff/ForwardDiff.jl}{\\texttt{ForwardDiff}}, hence its limitations also apply here. Even though \\texttt{ForwardDiff} is very fast, depending on your exact system you might gain significant speed-up by providing a hand-coded Jacobian and so it is recommended. Additionally, automatic and in-place Jacobians cannot be time dependent.\n",
       "\n",
       "The keyword \\texttt{J0} allows you to pass an initialized Jacobian matrix \\texttt{J0}. This is useful for large in-place systems where only a few components of the Jacobian change during the time evolution. \\texttt{J0} can be a sparse or any other matrix type. If not given, a matrix of zeros is used. \\texttt{J0} is ignored for out of place systems.\n",
       "\n"
      ],
      "text/markdown": [
       "```\n",
       "TangentDynamicalSystem <: DynamicalSystem\n",
       "TangentDynamicalSystem(ds::CoreDynamicalSystem; kwargs...)\n",
       "```\n",
       "\n",
       "A dynamical system that bundles the evolution of `ds` (which must be an [`CoreDynamicalSystem`](@ref)) and `k` deviation vectors that are evolved according to the *dynamics in the tangent space* (also called linearized dynamics or the tangent dynamics).\n",
       "\n",
       "The state of `ds` **must** be an `AbstractVector` for `TangentDynamicalSystem`.\n",
       "\n",
       "`TangentDynamicalSystem` follows the [`DynamicalSystem`](@ref) interface with the following adjustments:\n",
       "\n",
       "  * `reinit!` takes an additional keyword `Q0` (with same default as below)\n",
       "  * The additional functions [`current_deviations`](@ref) and [`set_deviations!`](@ref) are provided for the deviation vectors.\n",
       "\n",
       "## Keyword arguments\n",
       "\n",
       "  * `k` or `Q0`: `Q0` represents the initial deviation vectors (each column = 1 vector). If `k::Int` is given, a matrix `Q0` is created with the first `k` columns of the identity matrix. Otherwise `Q0` can be given directly as a matrix. It must hold that `size(Q, 1) == dimension(ds)`. You can use [`orthonormal`](@ref) for random orthonormal vectors. By default `k = dimension(ds)` is used.\n",
       "  * `u0 = current_state(ds)`: Starting state.\n",
       "  * `J` and `J0`: See section \"Jacobian\" below.\n",
       "\n",
       "## Description\n",
       "\n",
       "Let $u$ be the state of `ds`, and $y$ a deviation (or perturbation) vector. These two are evolved in parallel according to\n",
       "\n",
       "$$\n",
       "\\begin{array}{rcl}\n",
       "\\frac{d\\vec{x}}{dt} &=& f(\\vec{x}) \\\\\n",
       "\\frac{dY}{dt} &=& J_f(\\vec{x}) \\cdot Y\n",
       "\\end{array}\n",
       "\\quad \\mathrm{or}\\quad\n",
       "\\begin{array}{rcl}\n",
       "\\vec{x}_{n+1} &=& f(\\vec{x}_n) \\\\\n",
       "Y_{n+1} &=& J_f(\\vec{x}_n) \\cdot Y_n.\n",
       "\\end{array}\n",
       "$$\n",
       "\n",
       "for continuous or discrete time respectively. Here $f$ is the [`dynamic_rule`](@ref)`(ds)` and $J_f$ is the Jacobian of $f$.\n",
       "\n",
       "## Jacobian\n",
       "\n",
       "The keyword `J` provides the Jacobian function. It must be a Julia function in the same form as `f`, the [`dynamic_rule`](@ref). Specifically, `J(u, p, n) -> M::SMatrix` for the out-of-place version or `J(M, u, p, n)` for the in-place version acting in-place on `M`. in both cases `M` is a matrix whose columns are the deviation vectors.\n",
       "\n",
       "By default `J = nothing`.  In this case `J` is constructed automatically using the module [`ForwardDiff`](https://github.com/JuliaDiff/ForwardDiff.jl), hence its limitations also apply here. Even though `ForwardDiff` is very fast, depending on your exact system you might gain significant speed-up by providing a hand-coded Jacobian and so it is recommended. Additionally, automatic and in-place Jacobians cannot be time dependent.\n",
       "\n",
       "The keyword `J0` allows you to pass an initialized Jacobian matrix `J0`. This is useful for large in-place systems where only a few components of the Jacobian change during the time evolution. `J0` can be a sparse or any other matrix type. If not given, a matrix of zeros is used. `J0` is ignored for out of place systems.\n"
      ],
      "text/plain": [
       "\u001b[36m  TangentDynamicalSystem <: DynamicalSystem\u001b[39m\n",
       "\u001b[36m  TangentDynamicalSystem(ds::CoreDynamicalSystem; kwargs...)\u001b[39m\n",
       "\n",
       "  A dynamical system that bundles the evolution of \u001b[36mds\u001b[39m (which must be an\n",
       "  \u001b[36mCoreDynamicalSystem\u001b[39m) and \u001b[36mk\u001b[39m deviation vectors that are evolved according to\n",
       "  the \u001b[4mdynamics in the tangent space\u001b[24m (also called linearized dynamics or the\n",
       "  tangent dynamics).\n",
       "\n",
       "  The state of \u001b[36mds\u001b[39m \u001b[1mmust\u001b[22m be an \u001b[36mAbstractVector\u001b[39m for \u001b[36mTangentDynamicalSystem\u001b[39m.\n",
       "\n",
       "  \u001b[36mTangentDynamicalSystem\u001b[39m follows the \u001b[36mDynamicalSystem\u001b[39m interface with the\n",
       "  following adjustments:\n",
       "\n",
       "    •  \u001b[36mreinit!\u001b[39m takes an additional keyword \u001b[36mQ0\u001b[39m (with same default as\n",
       "       below)\n",
       "\n",
       "    •  The additional functions \u001b[36mcurrent_deviations\u001b[39m and \u001b[36mset_deviations!\u001b[39m\n",
       "       are provided for the deviation vectors.\n",
       "\n",
       "\u001b[1m  Keyword arguments\u001b[22m\n",
       "\u001b[1m  ===================\u001b[22m\n",
       "\n",
       "    •  \u001b[36mk\u001b[39m or \u001b[36mQ0\u001b[39m: \u001b[36mQ0\u001b[39m represents the initial deviation vectors (each column\n",
       "       = 1 vector). If \u001b[36mk::Int\u001b[39m is given, a matrix \u001b[36mQ0\u001b[39m is created with the\n",
       "       first \u001b[36mk\u001b[39m columns of the identity matrix. Otherwise \u001b[36mQ0\u001b[39m can be given\n",
       "       directly as a matrix. It must hold that \u001b[36msize(Q, 1) ==\n",
       "       dimension(ds)\u001b[39m. You can use \u001b[36morthonormal\u001b[39m for random orthonormal\n",
       "       vectors. By default \u001b[36mk = dimension(ds)\u001b[39m is used.\n",
       "\n",
       "    •  \u001b[36mu0 = current_state(ds)\u001b[39m: Starting state.\n",
       "\n",
       "    •  \u001b[36mJ\u001b[39m and \u001b[36mJ0\u001b[39m: See section \"Jacobian\" below.\n",
       "\n",
       "\u001b[1m  Description\u001b[22m\n",
       "\u001b[1m  =============\u001b[22m\n",
       "\n",
       "  Let \u001b[35mu\u001b[39m be the state of \u001b[36mds\u001b[39m, and \u001b[35my\u001b[39m a deviation (or perturbation) vector. These\n",
       "  two are evolved in parallel according to\n",
       "\n",
       "\u001b[35m  \\begin{array}{rcl}\u001b[39m\n",
       "\u001b[35m\\frac{d\\vec{x}}{dt} &=& f(\\vec{x}) \\\\\u001b[39m\n",
       "\u001b[35m\\frac{dY}{dt} &=& J_f(\\vec{x}) \\cdot Y\u001b[39m\n",
       "\u001b[35m\\end{array}\u001b[39m\n",
       "\u001b[35m\\quad \\mathrm{or}\\quad\u001b[39m\n",
       "\u001b[35m\\begin{array}{rcl}\u001b[39m\n",
       "\u001b[35m\\vec{x}_{n+1} &=& f(\\vec{x}_n) \\\\\u001b[39m\n",
       "\u001b[35mY_{n+1} &=& J_f(\\vec{x}_n) \\cdot Y_n.\u001b[39m\n",
       "\u001b[35m\\end{array}\u001b[39m\n",
       "\n",
       "  for continuous or discrete time respectively. Here \u001b[35mf\u001b[39m is the \u001b[36mdynamic_rule\u001b[39m\u001b[36m(ds)\u001b[39m\n",
       "  and \u001b[35mJ_f\u001b[39m is the Jacobian of \u001b[35mf\u001b[39m.\n",
       "\n",
       "\u001b[1m  Jacobian\u001b[22m\n",
       "\u001b[1m  ==========\u001b[22m\n",
       "\n",
       "  The keyword \u001b[36mJ\u001b[39m provides the Jacobian function. It must be a Julia function in\n",
       "  the same form as \u001b[36mf\u001b[39m, the \u001b[36mdynamic_rule\u001b[39m. Specifically, \u001b[36mJ(u, p, n) -> M::SMatrix\u001b[39m\n",
       "  for the out-of-place version or \u001b[36mJ(M, u, p, n)\u001b[39m for the in-place version\n",
       "  acting in-place on \u001b[36mM\u001b[39m. in both cases \u001b[36mM\u001b[39m is a matrix whose columns are the\n",
       "  deviation vectors.\n",
       "\n",
       "  By default \u001b[36mJ = nothing\u001b[39m. In this case \u001b[36mJ\u001b[39m is constructed automatically using\n",
       "  the module \u001b[36mForwardDiff\u001b[39m (https://github.com/JuliaDiff/ForwardDiff.jl), hence\n",
       "  its limitations also apply here. Even though \u001b[36mForwardDiff\u001b[39m is very fast,\n",
       "  depending on your exact system you might gain significant speed-up by\n",
       "  providing a hand-coded Jacobian and so it is recommended. Additionally,\n",
       "  automatic and in-place Jacobians cannot be time dependent.\n",
       "\n",
       "  The keyword \u001b[36mJ0\u001b[39m allows you to pass an initialized Jacobian matrix \u001b[36mJ0\u001b[39m. This is\n",
       "  useful for large in-place systems where only a few components of the\n",
       "  Jacobian change during the time evolution. \u001b[36mJ0\u001b[39m can be a sparse or any other\n",
       "  matrix type. If not given, a matrix of zeros is used. \u001b[36mJ0\u001b[39m is ignored for out\n",
       "  of place systems."
      ]
     },
     "execution_count": 23,
     "metadata": {},
     "output_type": "execute_result"
    }
   ],
   "source": [
    "?TangentDynamicalSystem"
   ]
  },
  {
   "cell_type": "code",
   "execution_count": 32,
   "id": "09527d95",
   "metadata": {},
   "outputs": [
    {
     "name": "stdout",
     "output_type": "stream",
     "text": [
      "search: \u001b[0m\u001b[1mf\u001b[22m\u001b[0m\u001b[1mi\u001b[22m\u001b[0m\u001b[1mx\u001b[22m\u001b[0m\u001b[1me\u001b[22m\u001b[0m\u001b[1md\u001b[22m\u001b[0m\u001b[1mp\u001b[22m\u001b[0m\u001b[1mo\u001b[22m\u001b[0m\u001b[1mi\u001b[22m\u001b[0m\u001b[1mn\u001b[22m\u001b[0m\u001b[1mt\u001b[22m\u001b[0m\u001b[1ms\u001b[22m\n",
      "\n"
     ]
    },
    {
     "data": {
      "text/latex": [
       "\\begin{verbatim}\n",
       "fixedpoints(ds::CoreDynamicalSystem, box, J = nothing; kwargs...) → fp, eigs, stable\n",
       "\\end{verbatim}\n",
       "Return all fixed points \\texttt{fp} of the given out-of-place \\texttt{ds} (either \\texttt{DeterministicIteratedMap} or \\texttt{CoupledODEs}) that exist within the state space subset \\texttt{box} for parameter configuration \\texttt{p}. Fixed points are returned as a \\href{@ref}{\\texttt{Dataset}}. For convenience, a vector of the Jacobian eigenvalues of each fixed point, and whether the fixed points are stable or not, are also returned.\n",
       "\n",
       "\\texttt{box} is an appropriate \\texttt{IntervalBox} from IntervalRootFinding.jl. E.g. for a 3D system it would be something like\n",
       "\n",
       "\\begin{verbatim}\n",
       "v, z = -5..5, -2..2   # 1D intervals, can use `interval(-5, 5)` instead\n",
       "box = v × v × z       # `\\times = ×`, or use `IntervalBox(v, v, z)` instead\n",
       "\\end{verbatim}\n",
       "\\texttt{J} is the Jacobian of the dynamic rule of \\texttt{ds}. It is like in \\href{@ref}{\\texttt{TangentDynamicalSystem}}, however in this case automatic Jacobian estimation does not work, hence a hand-coded version must be given.\n",
       "\n",
       "Internally IntervalRootFinding.jl is used and as a result we are guaranteed to find all fixed points that exist in \\texttt{box}, regardless of stability. Since IntervalRootFinding.jl returns an interval containing a unique fixed point, we return the midpoint of the interval as the actual fixed point. Naturally, limitations inherent to IntervalRootFinding.jl apply here.\n",
       "\n",
       "The output of \\texttt{fixedpoints} can be used in the \\href{https://github.com/rveltz/BifurcationKit.jl}{BifurcationKit.jl} as a start of a continuation process. See also \\href{@ref}{\\texttt{periodicorbits}}.\n",
       "\n",
       "\\subsection{Keyword arguments}\n",
       "\\begin{itemize}\n",
       "\\item \\texttt{method = IntervalRootFinding.Krawczyk} configures the root finding method, see the docs of IntervalRootFinding.jl for all posibilities.\n",
       "\n",
       "\n",
       "\\item \\texttt{tol = 1e-15} is the root-finding tolerance.\n",
       "\n",
       "\n",
       "\\item \\texttt{warn = true} throw a warning if no fixed points are found.\n",
       "\n",
       "\\end{itemize}\n"
      ],
      "text/markdown": [
       "```\n",
       "fixedpoints(ds::CoreDynamicalSystem, box, J = nothing; kwargs...) → fp, eigs, stable\n",
       "```\n",
       "\n",
       "Return all fixed points `fp` of the given out-of-place `ds` (either `DeterministicIteratedMap` or `CoupledODEs`) that exist within the state space subset `box` for parameter configuration `p`. Fixed points are returned as a [`Dataset`](@ref). For convenience, a vector of the Jacobian eigenvalues of each fixed point, and whether the fixed points are stable or not, are also returned.\n",
       "\n",
       "`box` is an appropriate `IntervalBox` from IntervalRootFinding.jl. E.g. for a 3D system it would be something like\n",
       "\n",
       "```julia\n",
       "v, z = -5..5, -2..2   # 1D intervals, can use `interval(-5, 5)` instead\n",
       "box = v × v × z       # `\\times = ×`, or use `IntervalBox(v, v, z)` instead\n",
       "```\n",
       "\n",
       "`J` is the Jacobian of the dynamic rule of `ds`. It is like in [`TangentDynamicalSystem`](@ref), however in this case automatic Jacobian estimation does not work, hence a hand-coded version must be given.\n",
       "\n",
       "Internally IntervalRootFinding.jl is used and as a result we are guaranteed to find all fixed points that exist in `box`, regardless of stability. Since IntervalRootFinding.jl returns an interval containing a unique fixed point, we return the midpoint of the interval as the actual fixed point. Naturally, limitations inherent to IntervalRootFinding.jl apply here.\n",
       "\n",
       "The output of `fixedpoints` can be used in the [BifurcationKit.jl](https://github.com/rveltz/BifurcationKit.jl) as a start of a continuation process. See also [`periodicorbits`](@ref).\n",
       "\n",
       "## Keyword arguments\n",
       "\n",
       "  * `method = IntervalRootFinding.Krawczyk` configures the root finding method, see the docs of IntervalRootFinding.jl for all posibilities.\n",
       "  * `tol = 1e-15` is the root-finding tolerance.\n",
       "  * `warn = true` throw a warning if no fixed points are found.\n"
      ],
      "text/plain": [
       "\u001b[36m  fixedpoints(ds::CoreDynamicalSystem, box, J = nothing; kwargs...) → fp, eigs, stable\u001b[39m\n",
       "\n",
       "  Return all fixed points \u001b[36mfp\u001b[39m of the given out-of-place \u001b[36mds\u001b[39m (either\n",
       "  \u001b[36mDeterministicIteratedMap\u001b[39m or \u001b[36mCoupledODEs\u001b[39m) that exist within the state space\n",
       "  subset \u001b[36mbox\u001b[39m for parameter configuration \u001b[36mp\u001b[39m. Fixed points are returned as a\n",
       "  \u001b[36mDataset\u001b[39m. For convenience, a vector of the Jacobian eigenvalues of each fixed\n",
       "  point, and whether the fixed points are stable or not, are also returned.\n",
       "\n",
       "  \u001b[36mbox\u001b[39m is an appropriate \u001b[36mIntervalBox\u001b[39m from IntervalRootFinding.jl. E.g. for a 3D\n",
       "  system it would be something like\n",
       "\n",
       "\u001b[36m  v, z = -5..5, -2..2   # 1D intervals, can use `interval(-5, 5)` instead\u001b[39m\n",
       "\u001b[36m  box = v × v × z       # `\\times = ×`, or use `IntervalBox(v, v, z)` instead\u001b[39m\n",
       "\n",
       "  \u001b[36mJ\u001b[39m is the Jacobian of the dynamic rule of \u001b[36mds\u001b[39m. It is like in\n",
       "  \u001b[36mTangentDynamicalSystem\u001b[39m, however in this case automatic Jacobian estimation\n",
       "  does not work, hence a hand-coded version must be given.\n",
       "\n",
       "  Internally IntervalRootFinding.jl is used and as a result we are guaranteed\n",
       "  to find all fixed points that exist in \u001b[36mbox\u001b[39m, regardless of stability. Since\n",
       "  IntervalRootFinding.jl returns an interval containing a unique fixed point,\n",
       "  we return the midpoint of the interval as the actual fixed point. Naturally,\n",
       "  limitations inherent to IntervalRootFinding.jl apply here.\n",
       "\n",
       "  The output of \u001b[36mfixedpoints\u001b[39m can be used in the BifurcationKit.jl\n",
       "  (https://github.com/rveltz/BifurcationKit.jl) as a start of a continuation\n",
       "  process. See also \u001b[36mperiodicorbits\u001b[39m.\n",
       "\n",
       "\u001b[1m  Keyword arguments\u001b[22m\n",
       "\u001b[1m  ===================\u001b[22m\n",
       "\n",
       "    •  \u001b[36mmethod = IntervalRootFinding.Krawczyk\u001b[39m configures the root finding\n",
       "       method, see the docs of IntervalRootFinding.jl for all\n",
       "       posibilities.\n",
       "\n",
       "    •  \u001b[36mtol = 1e-15\u001b[39m is the root-finding tolerance.\n",
       "\n",
       "    •  \u001b[36mwarn = true\u001b[39m throw a warning if no fixed points are found."
      ]
     },
     "execution_count": 32,
     "metadata": {},
     "output_type": "execute_result"
    }
   ],
   "source": [
    "?fixedpoints"
   ]
  },
  {
   "cell_type": "code",
   "execution_count": 34,
   "id": "899b7907",
   "metadata": {},
   "outputs": [
    {
     "data": {
      "text/plain": [
       "(2, 2)"
      ]
     },
     "metadata": {},
     "output_type": "display_data"
    },
    {
     "data": {
      "text/latex": [
       "$$ \\begin{equation}\n",
       "\\left[\n",
       "\\begin{array}{cc}\n",
       " - c - f + a_1 \\alpha_1 - \\left(  - b + y_1 \\right)^{2} a & \\rho - 2 a \\left(  - b + y_1 \\right) x_1 \\\\\n",
       "f &  - h + a_2 \\alpha_1 \\\\\n",
       "\\end{array}\n",
       "\\right]\n",
       "\\end{equation}\n",
       " $$"
      ],
      "text/plain": [
       "2×2 Matrix{Num}:\n",
       " a₁*α[1] - c - f - a*((y[1] - b)^2)  ρ - 2a*(y[1] - b)*x[1]\n",
       "               f                                a₂*α[1] - h"
      ]
     },
     "metadata": {},
     "output_type": "display_data"
    }
   ],
   "source": [
    "# Inspect jacobian for two forest system\n",
    "# ... note that authors assume a₂ = 0\n",
    "n = 1\n",
    "J_n = n_forest_sym_jacob(n)\n",
    "display(size(J_n))\n",
    "display(J_n)"
   ]
  },
  {
   "cell_type": "code",
   "execution_count": 31,
   "id": "4bf8ce94",
   "metadata": {},
   "outputs": [
    {
     "name": "stdout",
     "output_type": "stream",
     "text": [
      "α_1, y_1, x_1-->\n",
      "1,1; 1,2;\n",
      "2,1; 2,2;\n",
      "------\n",
      "α_2, y_2, x_2-->\n",
      "3,3; 3,4;\n",
      "4,3; 4,4;\n",
      "------\n",
      "α_3, y_3, x_3-->\n",
      "5,5; 5,6;\n",
      "6,5; 6,6;\n",
      "------\n"
     ]
    }
   ],
   "source": [
    "# Example indices that will need to be modified \n",
    "J = Matrix(undef, 2*n, 2*n)\n",
    "state_ix = 1\n",
    "for i in 1:2:2*n\n",
    "        println(\"α_$(state_ix), y_$(state_ix), x_$(state_ix)\" *\n",
    "            \"-->\\n$(i),$(i); $(i),$(i+1);\\n$(i+1),$(i); $(i+1),$(i+1);\\n------\")\n",
    "        state_ix += 1\n",
    "end "
   ]
  },
  {
   "cell_type": "code",
   "execution_count": null,
   "id": "4f6f3b8a",
   "metadata": {},
   "outputs": [],
   "source": []
  },
  {
   "cell_type": "code",
   "execution_count": null,
   "id": "b01ca990",
   "metadata": {},
   "outputs": [],
   "source": []
  }
 ],
 "metadata": {
  "kernelspec": {
   "display_name": "Julia 1.9.0",
   "language": "julia",
   "name": "julia-1.9"
  },
  "language_info": {
   "file_extension": ".jl",
   "mimetype": "application/julia",
   "name": "julia",
   "version": "1.9.0"
  }
 },
 "nbformat": 4,
 "nbformat_minor": 5
}
