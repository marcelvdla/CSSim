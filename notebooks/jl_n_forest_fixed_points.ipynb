{
 "cells": [
  {
   "cell_type": "code",
   "execution_count": 2,
   "id": "25f7e524",
   "metadata": {},
   "outputs": [
    {
     "data": {
      "text/plain": [
       "antonovsky_sym_jacob"
      ]
     },
     "execution_count": 2,
     "metadata": {},
     "output_type": "execute_result"
    }
   ],
   "source": [
    "# Stability analysis of n-forest system\n",
    "# requires rule for jacobian for fixed-point analysis\n",
    "using Random\n",
    "using PyPlot\n",
    "using ChaosTools\n",
    "using DrWatson\n",
    "using UnPack\n",
    "# @quickactivate :CSSim\n",
    "include(joinpath(srcdir(), \"n_forest.jl\"))"
   ]
  },
  {
   "cell_type": "code",
   "execution_count": 16,
   "id": "5e21700b",
   "metadata": {},
   "outputs": [
    {
     "name": "stdout",
     "output_type": "stream",
     "text": [
      "search: \u001b[0m\u001b[1mn\u001b[22m\u001b[0m\u001b[1m_\u001b[22m\u001b[0m\u001b[1mf\u001b[22m\u001b[0m\u001b[1mo\u001b[22m\u001b[0m\u001b[1mr\u001b[22m\u001b[0m\u001b[1me\u001b[22m\u001b[0m\u001b[1ms\u001b[22m\u001b[0m\u001b[1mt\u001b[22m\u001b[0m\u001b[1m_\u001b[22m\u001b[0m\u001b[1mj\u001b[22m\u001b[0m\u001b[1ma\u001b[22m\u001b[0m\u001b[1mc\u001b[22m\u001b[0m\u001b[1mo\u001b[22m\u001b[0m\u001b[1mb\u001b[22m\u001b[0m\u001b[1m!\u001b[22m \u001b[0m\u001b[1mn\u001b[22m\u001b[0m\u001b[1m_\u001b[22m\u001b[0m\u001b[1mf\u001b[22m\u001b[0m\u001b[1mo\u001b[22m\u001b[0m\u001b[1mr\u001b[22m\u001b[0m\u001b[1me\u001b[22m\u001b[0m\u001b[1ms\u001b[22m\u001b[0m\u001b[1mt\u001b[22m\u001b[0m\u001b[1m_\u001b[22msym_\u001b[0m\u001b[1mj\u001b[22m\u001b[0m\u001b[1ma\u001b[22m\u001b[0m\u001b[1mc\u001b[22m\u001b[0m\u001b[1mo\u001b[22m\u001b[0m\u001b[1mb\u001b[22m\n",
      "\n"
     ]
    },
    {
     "data": {
      "text/latex": [
       "\\begin{verbatim}\n",
       "n_forest_jacob!(J, u::Matrix, params::Dict{Symbol, Any}, t)\n",
       "\\end{verbatim}\n",
       "Create Jacobian \\texttt{J} of an \\texttt{n}-forest system in place using the state matrix \\texttt{u}.\n",
       "\n",
       "The state matrix \\texttt{u} is \\texttt{(n, 2)}. The rule for the Jacobian was determined  by visual inspection of the outputs of \\href{@ref}{\\texttt{n\\_forest\\_sym\\_jacob}}.\n",
       "\n"
      ],
      "text/markdown": [
       "```\n",
       "n_forest_jacob!(J, u::Matrix, params::Dict{Symbol, Any}, t)\n",
       "```\n",
       "\n",
       "Create Jacobian `J` of an `n`-forest system in place using the state matrix `u`.\n",
       "\n",
       "The state matrix `u` is `(n, 2)`. The rule for the Jacobian was determined  by visual inspection of the outputs of [`n_forest_sym_jacob`](@ref).\n"
      ],
      "text/plain": [
       "\u001b[36m  n_forest_jacob!(J, u::Matrix, params::Dict{Symbol, Any}, t)\u001b[39m\n",
       "\n",
       "  Create Jacobian \u001b[36mJ\u001b[39m of an \u001b[36mn\u001b[39m-forest system in place using the state matrix \u001b[36mu\u001b[39m.\n",
       "\n",
       "  The state matrix \u001b[36mu\u001b[39m is \u001b[36m(n, 2)\u001b[39m. The rule for the Jacobian was determined by\n",
       "  visual inspection of the outputs of \u001b[36mn_forest_sym_jacob\u001b[39m."
      ]
     },
     "execution_count": 16,
     "metadata": {},
     "output_type": "execute_result"
    }
   ],
   "source": [
    "?n_forest_jacob!"
   ]
  },
  {
   "cell_type": "code",
   "execution_count": 21,
   "id": "7ac5d012",
   "metadata": {},
   "outputs": [
    {
     "data": {
      "text/plain": [
       "4×4 Matrix{Float64}:\n",
       " -2.0   1.0   0.0       0.0\n",
       "  1.0  -1.0   0.0       0.0\n",
       "  0.0   0.0  -1.73576   1.0\n",
       "  0.0   0.0   1.0      -0.735759"
      ]
     },
     "execution_count": 21,
     "metadata": {},
     "output_type": "execute_result"
    }
   ],
   "source": [
    "n = 2;\n",
    "params = Dict(\n",
    "    :ρ => 1, :f => 1, :a₁ => 1, :h => 1, :a₂ => 1, \n",
    "    :d => [1], :l => 1, :α₀ => 1, :w₀ => 1, :P₀ => 1, \n",
    "    :β₁ => 1, :β₂ => 1, :ecosystems_to_deforest => [], \n",
    "    :n => n\n",
    ");\n",
    "J = zeros(n*2, n*2);\n",
    "u = ones(n, 2);\n",
    "n_forest_jacob!(J, u, params, 1);\n",
    "J"
   ]
  },
  {
   "cell_type": "code",
   "execution_count": 12,
   "id": "899b7907",
   "metadata": {},
   "outputs": [
    {
     "data": {
      "text/plain": [
       "(4, 4)"
      ]
     },
     "metadata": {},
     "output_type": "display_data"
    },
    {
     "data": {
      "text/latex": [
       "$$ \\begin{equation}\n",
       "\\left[\n",
       "\\begin{array}{cccc}\n",
       " - c - f + a_1 \\alpha_1 - \\left(  - b + y_1 \\right)^{2} a & \\rho - 2 a \\left(  - b + y_1 \\right) x_1 & 0 & 0 \\\\\n",
       "f &  - h + a_2 \\alpha_1 & 0 & 0 \\\\\n",
       "0 & 0 &  - c - f + a_1 \\alpha_2 - \\left(  - b + y_2 \\right)^{2} a & \\rho - 2 a \\left(  - b + y_2 \\right) x_2 \\\\\n",
       "0 & 0 & f &  - h + a_2 \\alpha_2 \\\\\n",
       "\\end{array}\n",
       "\\right]\n",
       "\\end{equation}\n",
       " $$"
      ],
      "text/plain": [
       "4×4 Matrix{Num}:\n",
       " a₁*α[1] - c - f - a*((y[1] - b)^2)  …                       0\n",
       "               f                                             0\n",
       "              0                         ρ - 2a*(y[2] - b)*x[2]\n",
       "              0                                    a₂*α[2] - h"
      ]
     },
     "metadata": {},
     "output_type": "display_data"
    },
    {
     "name": "stdout",
     "output_type": "stream",
     "text": [
      "α_1, y_1, x_1-->\n",
      "1,1; 1,2;\n",
      "2,1; 2,2;\n",
      "------\n",
      "α_2, y_2, x_2-->\n",
      "3,3; 3,4;\n",
      "4,3; 4,4;\n",
      "------\n"
     ]
    }
   ],
   "source": [
    "# Inspect jacobian for two forest system\n",
    "# ... note that authors assume a₂ = 0\n",
    "n = 2\n",
    "\n",
    "J_n = n_forest_sym_jacob(n)\n",
    "display(size(J_n))\n",
    "display(J_n)\n",
    "\n",
    "# Example indices that will need to be modified in the jacobian\n",
    "# matrix J\n",
    "J = Matrix(undef, 2*n, 2*n)\n",
    "state_ix = 1\n",
    "for i in 1:2:2*n\n",
    "        println(\"α_$(state_ix), y_$(state_ix), x_$(state_ix)\" *\n",
    "            \"-->\\n$(i),$(i); $(i),$(i+1);\\n$(i+1),$(i); $(i+1),$(i+1);\\n------\")\n",
    "        state_ix += 1\n",
    "end "
   ]
  },
  {
   "cell_type": "code",
   "execution_count": null,
   "id": "80badde2",
   "metadata": {},
   "outputs": [],
   "source": []
  }
 ],
 "metadata": {
  "kernelspec": {
   "display_name": "Julia 1.9.0",
   "language": "julia",
   "name": "julia-1.9"
  },
  "language_info": {
   "file_extension": ".jl",
   "mimetype": "application/julia",
   "name": "julia",
   "version": "1.9.0"
  }
 },
 "nbformat": 4,
 "nbformat_minor": 5
}
