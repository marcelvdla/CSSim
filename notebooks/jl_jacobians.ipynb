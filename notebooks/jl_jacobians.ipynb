{
 "cells": [
  {
   "cell_type": "code",
   "execution_count": 1,
   "metadata": {},
   "outputs": [],
   "source": [
    "using CSSim"
   ]
  },
  {
   "cell_type": "code",
   "execution_count": 4,
   "metadata": {},
   "outputs": [
    {
     "data": {
      "text/latex": [
       "$$ \\begin{equation}\n",
       "\\left[\n",
       "\\begin{array}{cccc}\n",
       " - c - f + a_1 \\alpha_1 - \\left(  - b + y_1 \\right)^{2} a & \\rho - 2 a \\left(  - b + y_1 \\right) x_1 & 0 & 0 \\\\\n",
       "f &  - h + a_2 \\alpha_1 & 0 & 0 \\\\\n",
       "0 & 0 &  - c - f + a_1 \\alpha_2 - \\left(  - b + y_2 \\right)^{2} a & \\rho - 2 a \\left(  - b + y_2 \\right) x_2 \\\\\n",
       "0 & 0 & f &  - h + a_2 \\alpha_2 \\\\\n",
       "\\end{array}\n",
       "\\right]\n",
       "\\end{equation}\n",
       " $$"
      ],
      "text/plain": [
       "4×4 Matrix{Symbolics.Num}:\n",
       " a₁*α[1] - c - f - a*((y[1] - b)^2)  …                       0\n",
       "               f                                             0\n",
       "              0                         ρ - 2a*(y[2] - b)*x[2]\n",
       "              0                                    a₂*α[2] - h"
      ]
     },
     "metadata": {},
     "output_type": "display_data"
    }
   ],
   "source": [
    "n_forest_jacobian = CSSim.n_forest_sym_jacob(2)"
   ]
  },
  {
   "cell_type": "code",
   "execution_count": 5,
   "metadata": {},
   "outputs": [
    {
     "name": "stdout",
     "output_type": "stream",
     "text": [
      "Symbolics.Num["
     ]
    },
    {
     "name": "stdout",
     "output_type": "stream",
     "text": [
      "a₁*"
     ]
    },
    {
     "name": "stdout",
     "output_type": "stream",
     "text": [
      "α[1] - c - f - a*((y[1] - b)^2) ρ - 2a*(y[1] - b)*x[1] 0 0; f a₂*α[1] - h 0 0; 0 0 a₁*α[2] - c - f - a*((y[2] - b)^2) ρ - 2a*(y[2] - b)*x[2]; 0 0 f a₂*α[2] - h]"
     ]
    }
   ],
   "source": [
    "print(n_forest_jacobian)"
   ]
  },
  {
   "cell_type": "code",
   "execution_count": null,
   "metadata": {},
   "outputs": [],
   "source": [
    "[\n",
    "    a₁*α[1] - c - f - a*((y[1] - b)^2) ρ - 2a*(y[1] - b)*x[1] 0 0; \n",
    "    f (a₂*α[1] - h) 0 0; \n",
    "    0 0 (a₁*α[2] - c - f - a*((y[2] - b)^2)) (ρ - 2a*(y[2] - b)*x[2]); \n",
    "    0 0 f (a₂*α[2] - h)\n",
    "    ]"
   ]
  }
 ],
 "metadata": {
  "kernelspec": {
   "display_name": "Julia 1.9.0",
   "language": "julia",
   "name": "julia-1.9"
  },
  "language_info": {
   "file_extension": ".jl",
   "mimetype": "application/julia",
   "name": "julia",
   "version": "1.9.0"
  },
  "orig_nbformat": 4
 },
 "nbformat": 4,
 "nbformat_minor": 2
}
